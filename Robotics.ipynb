{
  "nbformat": 4,
  "nbformat_minor": 0,
  "metadata": {
    "colab": {
      "provenance": [],
      "toc_visible": true,
      "authorship_tag": "ABX9TyOAIKJD8vvNdyCIOE7iftsU",
      "include_colab_link": true
    },
    "kernelspec": {
      "name": "python3",
      "display_name": "Python 3"
    },
    "language_info": {
      "name": "python"
    }
  },
  "cells": [
    {
      "cell_type": "markdown",
      "metadata": {
        "id": "view-in-github",
        "colab_type": "text"
      },
      "source": [
        "<a href=\"https://colab.research.google.com/github/yardenzaki/robotics-summary/blob/main/Robotics.ipynb\" target=\"_parent\"><img src=\"https://colab.research.google.com/assets/colab-badge.svg\" alt=\"Open In Colab\"/></a>"
      ]
    },
    {
      "cell_type": "markdown",
      "source": [
        "# Useful links\n",
        "\n",
        "* issac gym \n",
        " \n",
        "   https://github.com/iamlab-cmu/isaacgym-utils/tree/master/examples\n",
        "\n",
        "  https://github.com/cypypccpy/Isaac-ManipulaRL/tree/master/envs_test\n",
        "\n",
        "* Manipulator kinematics\n",
        "\n",
        "  https://github.com/jhavl/dkt\n",
        "\n",
        "* ChatGPT\n",
        "\n",
        "  https://chat.openai.com/chat\n",
        "\n",
        "* Torch\n",
        "\n",
        "  https://pytorch.org/docs/stable/torch.html\n",
        "\n",
        "  * Torch optimization\n",
        "\n",
        "  https://pytorch.org/docs/stable/optim.html#how-to-use-an-optimizer\n",
        "\n",
        "  * Torch CheatSheet\n",
        "\n",
        "  https://pytorch.org/tutorials/beginner/ptcheat.html#tensors\n",
        "\n",
        "  * RL - Cartpole - Pytorch optimization\n",
        "\n",
        "  https://pytorch.org/tutorials/intermediate/reinforcement_q_learning.html"
      ],
      "metadata": {
        "id": "BjX34VZG1WCN"
      }
    },
    {
      "cell_type": "markdown",
      "source": [
        "# Robotics Principals"
      ],
      "metadata": {
        "id": "PPeoxULTgYj-"
      }
    },
    {
      "cell_type": "markdown",
      "source": [
        "## Tensor Shapes\n",
        "\n",
        "For a robotic manipulator with N degrees of freedom, the shapes of the kinematic and state tensors are as follows:\n",
        "\n",
        "* q , q̇ , q̈ = (N,1) - state vectors of manipulator dofs\n",
        "* T = (4,4) - Tr matrices\n",
        "* R = (3,3) - Rotation matrices\n",
        "* J = (6,N) - containing the Jacobian matrix of the manipulator. The first three rows of the Jacobian (Jv) correspond to the translational velocities of the end-effector in x, y, and z directions, and the last three rows (Jw) correspond to the rotational velocities around x, y, and z axes.\n",
        "* p = (3,1) - the ee position with respect to the base frame\n",
        "* euler = (3,1) - representing the Euler angles (roll, pitch, and yaw) that describe the orientation of the end-effector with respect to the base frame."
      ],
      "metadata": {
        "id": "QmlHgDLSuIDn"
      }
    },
    {
      "cell_type": "markdown",
      "source": [
        "## DH Parameters\n",
        "\n",
        "* To find the Denavit-Hartenberg (DH) parameters of a manipulator, you need to follow these steps:\n",
        "\n",
        "Label the joints of the manipulator from 1 to n, where n is the number of joints.\n",
        "Choose a reference frame for the manipulator. This frame is usually located at the base of the robot and has the same orientation as the world frame.\n",
        "Define the joint axes of the manipulator. Each joint has an axis of rotation that defines its motion.\n",
        "Assign the reference frame to joint 1 and define its z-axis as the joint axis.\n",
        "For each subsequent joint, define a new reference frame that is located at the joint and has the same orientation as the previous reference frame. The x-axis of the new frame should be perpendicular to the z-axis of the previous frame and point towards the next joint axis. The z-axis of the new frame should be aligned with the joint axis.\n",
        "Choose a convenient origin for each new reference frame.\n",
        "Define the DH parameters for each joint, using the following convention:\n",
        "* a:  the distance from the z-axis of the previous frame to the intersection of the x-axis of the current frame with the z-axis of the previous frame.\n",
        "* alpha:  the angle between the z-axes of the previous frame and the current frame, measured about the x-axis of the current frame.\n",
        "* d:  the distance from the x-axis of the previous frame to the intersection of the z-axis of the current frame with the x-axis of the previous frame.\n",
        "* theta:  the angle between the x-axes of the previous frame and the current frame, measured about the z-axis of the current frame.\n",
        "Here's an example DH parameter table for a 2DOF manipulator with revolute joints:\n",
        "\n",
        "\n",
        "![image.png](data:image/png;base64,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)\n",
        "\n",
        "\n",
        "\n",
        "In this example, l1 and l2 are the link lengths of the manipulator, and q1 and q2 are the joint angles.\n",
        "\n",
        "Once you have the DH parameters, you can use them to compute the forward kinematics of the manipulator, which gives you the position and orientation of the end-effector given the joint angles. **You can also use them to compute the Jacobian of the manipulator, which relates the joint velocities to the end-effector velocity.**"
      ],
      "metadata": {
        "id": "kBc5GLhaiK25"
      }
    },
    {
      "cell_type": "markdown",
      "source": [
        "### Jacobian from DH parameters\n",
        "\n",
        "** More here including how to implement: [The manipulator jacobian](https://colab.research.google.com/github/jhavl/dkt/blob/main/Part%201/2%20The%20Manipulator%20Jacobian.ipynb#scrollTo=URtvVzV4AUUC)\n",
        "\n",
        "![image.png](data:image/png;base64,iVBORw0KGgoAAAANSUhEUgAAAUYAAADhCAYAAAC0uRwSAAAAAXNSR0IArs4c6QAAAARnQU1BAACxjwv8YQUAAAAJcEhZcwAADsMAAA7DAcdvqGQAAD+ASURBVHhe7d15zDZVfT7wQau1rVrRSt2tUhGsUEFRERUBZam4NyAabSsVl0aTpmmMfxgb8Z+mSU1qQoxopLZVQGksVnBHkVXZBKoWbN23tqLWpZu2Pz4Hrvd3GO9neeV955n7ub9XcjIzZ842M9dc53uWObPH/92EoVAoFAo7cLtbtoVCoVC4BSWMhUKhMMIeN954YzWlC4XCSmPPPfe8Ze9mlMVYKBQKI+ywGMeKWSgUCtsd3/nOd9q2LMZCoVDYACWMhUKhMEIJY6FQKIxQwlgoFAojlDAWCoXCCCWMhUKhMEIJY6FQKIxQwlgoFAojlDAWCoXCCCWMhUKhMEIJY6FQKIxQwlgoFAojlDAWCoXCCCWMhUKhMEIJY6FQKIxQwlgoFAojbIkw/uQnPxnyc8J+f0rIc1HejntXKBRWD5MKYy84//u///tT292JPi8uiP96Ar1V4l0oFLYGkwpjhOn2t7/9cLvb3Zy1/T322GPHuSkgL04Z5L1Wvs5BiWKhsFqYVBgjNEQJeuHJ/u7GWICTd0SyL1PCRrwLhcJqYFJhJD4RHM3TuN56292IKI7z45/yQH+uRLFQWC1M3pSGNKUJTvbHltzugrw4AvjjH/+4+SlHnDJw9oWzn3IXCoXVwJY0pSM6vfjEf3ciFmHyBlv5//d///eOc2A/AlkoFFYLk/5X+gMf+MBw3nnnDd/+9rd3WGGEh9X4oAc9aHjpS1863Ote92r+uxr/9m//Nnz0ox8dLrjgguF73/tey5f4/dzP/Vwry6Mf/ejh8MMPHx784AcPv/iLv3grAXU+glkoFLYPZvFf6RtuuGG46KKLhq997WvNQtOU5SI+m4Fwseb+67/+6xbf/993uBYIGwEWLmnI+z/+4z+GK664Yrj00kvbTXKeG1uVhUJhdTCpxfimN72pWYyHHHLIcNBBBw2/8Au/cMuZYbjLXe4yPPShD72V3yJE2AgXYbvDHe6wKYuOEH/jG98YvvWtb7V4EeIf/vCHw+mnnz7c8Y53HE4++eThwAMP3FGGEsRCYXtjFhYjMbrzne88/Pqv/3oToEc96lHNPeIRjxj23Xff4U53utMtIRdDfMJI5IiWZrDjWH/rQdhf/dVfHQ444ICWX/K3v9dee1VTuVAo7MCkakDECBSL7Od//uebtWeb440sNOc51t3//M//tCY5i0+amsnrgfDJQ1z5Jm9izK+EsVAoBJNbjMSRuBEyLvsbiSIQw/RJfvaznx3e9ra37RjMke5GEC/5EcYci7uZ+IVCYTUwuZlEHIlb+vkI02bRW4biG2n+/ve/3/w3svjkpckdMQzs8+cKhUIBJhVGVppmayxELtbaZi22zDe8z33uMzzlKU8ZDj744NYU36iPUV4Rzz5PfoS1F8tCobDamFQYNYVNsSFIxJEoESTW3GYgvH5B23ve855t3qFBG4IbS3ItRPjSnJcGMf3P//zPdlzCWCgUgkmFMWIYECSIxZbjiFffvCWo5hwSMud/8IMfNGGTHj+DMD/60Y9aWOd7C1Ja/OQhPMcvTXP7JYyFQiGYVBgXIWIIEcf4ES1WJmiC+2LlsssuG84555zhne985/C5z31uuPbaa4errrpqOOuss4a3vOUt7ZgIimvLQS/IhUKhsB5mpxa95QgEjeVooMVI9F3vetc2Edw0m49//OPDhz/84dbvaILmJz/5yeFLX/pSsyZ7QSxrsFAo7AxmJYwRM0LGUiSQLD/NYp8TEkDfVBPGhz3sYc061HzW32ii9j777DPc7W5322EdRhB7K7RQKBQ2wuyEkYARtN5yJI5Gnh/ykIe0wRcW4Xe/+922fcADHtC+aPFJ4ZFHHtnEkVUpDhBYFmdZjYVCYbOYlTD2/YBGmh0TNoMk++2333D/+9+/rXyjv/G6665rluK9733vtv2VX/mV4dBDD22f9xFUIksMCWSJYqFQ2BnMUhj7Zm+a15mSQyi//vWvt/5FU3X23nvvFp6/prbwLMSMSkuTSzqFQqGwEWYljNA3ozlNZ4L3+c9/fsdyZVbJ+eIXv9jWbmQhmq5jcObiiy9unweyMFmVPcpqLBQKm8XshJEYsvBsCR7L7/rrrx/OPPPMtm6iTwC/8IUvtDD3uMc92nnTeP7pn/6pNbMjgCxE56QTsS0UCoXNYHbCGDEjfAZc7Fsz7V/+5V/agMuXv/zlJoD6E/mzHGNJ3u9+9xt+6Zd+qaUjfvoXpcEVCoXCZjBLizHiyOlb/LVf+7XhiCOOaPuayY997GOHF7zgBS08USR+1ng0Om1+Y0SwtxJLGAuFwmYxO2Fk5XERSE1io9FPfepThxNPPLHNYdS36B8t/Cwk8Zu/+ZttdDrxxOmFkECyIAuFQmEzmJVaEDPiRsQ4ghZxzGKyLEKWo7Ca1Lb8+QXixVp0vhfJQqFQ2AizbErHaTYTPMJoCg6/WH76FImoUWuI+EVUe/RN6kKhUNgIsxLGWHoRxoAAEkmIyPEjmESQn31ujBLFQqGws5hdUxrGVh/Bcy4CCLEk+zg9emEtrCbCgfCk5wv058fIkndjHo3TGMd1bpzHOI3C/DE7i3EMfqxD25AsRCOG2bftxbEsxUK4QuTyNRQhi3Ou388xRBih9094iH/icpDzQe+f8IV5Y1bCuBkQScQaE3JsMRYK4Yb+aKszffrTnx6uvvrqtn5ntvxuvPHGW4kWZ7DPcSrYiCue9RWyLp5U2sJbTNnc2iuvvLJ9kCCfa665pm2tBvWv//qvLZ3EL8wTk/5w/9RTTx0uueSS4YQTTmi/JTCqDJu17hAqfYuIZR8c74ww9qT01cwpp5zSJoufdNJJ9cP9bQR88QyJ4lvf+tb2jb3BulSuLEgcfMYznjE8/vGPb89d+PCp55X9OGIYceQijPDVr351eN/73tcEN/Nx5edbft0/xxxzTON+vwJUYeswix/u7yogJVIhPvIVCouQis1npISKMBIna3Zyd7/73ZsYmgIWQQRbghZxjKVIECOqEcLs51gYome1J04+v/zLv9w+b/2Hf/iH9s2//ZStME8slTAi51rNkJC6UBgDb1iKFjN+7nOfO5x88snDS17ykuHlL3/58MIXvnA44IADmjimD5Jo9VZghC8C6Zx9yHGc7/etC6r1IZ+XvexlLS9WqT9bFk+XA0sljIjXW4hIlj6eIlxhjF60CJvFjH1Pb3HjuAc/+ME7vq9nDQorXi+K/RaSJnGMkIoDLFLieN/73rflZcV5zn66jgrzx9I1pUNQfYOf+cxn2qo6/iBY/TWFRcAXjnDhSPoHCVi2QSpZThzCl0Eby9mFYypncbk+rK1j6MUy/o6TB7/CfDErYVyPLDlny+kv8rfASy+9tI0ELiJbjtXqafoUVg+4wY37Bx1rYjtOiyNcEV5foJHk0047rY1cq4BjIYJ4vfiBc8SvF2Eu+YqfvArzxawtxhAppOuh1ubU+EiYGjukCxG5vBiF1UKePYx5xB9/+BEuxxHExCGExE3Fm09PnQvfEq5PN8i5pNeHTX6F+WJWwriILCG0cxE9+/psjj766OFRj3pU67vhF5cwXOKmZi8UApxIhbqIK/oerdz0ohe9qPUbEkQc5MKvXlwhaXCF5cWs1CLCBwgWwiFZyJhfFpgGgbQ60NXqgKTCJG4RtLAewqlwLCKnCQ1GqlXA1v/swwlDJCEcjcv5nsuF5cOshDG1d/YB2eDf//3fW7+iCbT+EIi8LEXnDcT43YFfIPzwhz9s4ZNOiJrjQiGIMKZpnK3Fj//xH/+xDe595StfaZOzP/e5z7UmtTARxcTtxdDWMVdYXsxKGCOCQchFBI0KGoH+1Kc+NZx99tntVwfOI2P+GnjZZZe1cCFmL46FwhgZHImFaJ8YGoUmjH66Rhgvuuii4SMf+Uj71I9I6nvEOWF/9KMftbipfMO14txyY3bCGEKlJkZE1qLa2gRZRPzYxz624x8wjlmRPjW0v6gJ0xO2UAjwQvM5Aqkl4qdrWiDmN5oQjk9/93d/187hIvelL31p+MQnPtFmRRDIVMDSsB/LsbC8mJUwEi9ETV8hEESClyaM2poo6mPUlObne0fWpP+++Bwr5JSGbd9ELxQCQpYKWFcMsWMV+hIGlwy4EE2/5jVhG9+c91nfN7/5zWZZpuumr5BxrSri5cakwviwhz2sfayvQ9s0m548Ea+QNTBNwjeniEkQEXj//fdvgzDSUIMjK6jlsxBAam/7SS8iyfF3LH3/jznkkEPaf2Mcj0neHxe2D/AAcMV3zJdffnn7p5CWiYEX+MEPftCEkPXom2ffV+NZv+hAOGYb7hWWG5M+Qdae/pyM/gEiATL1pHKeI35qalMn1NKcUUK1eZo1LEY/3r/zne98K1FN2sGYuPblwSrllIsILopX2H7wrD1/XTV+y6t/+pGPfGQTP+e0VFTGFqHwQzaVrnMEksOj8DRImr1fYfkwqTAa7VP7+oqACEEI1ItPiBURCwH151jPjtVJKGMtErW99967CWim7vTo80h6sQKVQxosUX1LrAjnhU0Z+rIVtg9Uup41AWQZqrj9qhfwAE9xFtce+MAHNisSvzhcW8SN+BVnlhuTCqOal3VHyCJMECFERtuIV8A/Asbi/I3f+I1GPMKopkfqfffdtzWDxZNGn36IGv/kx4FBHC+BtPt4he0NnLCIrWdOFPHHv8nTTaMS1yKxCISmc1ojeJNm+BjhWmG5MakwpraNRQYhEhehCiJeCJlaWn8j4ur0JrQsPST1BQwyJ16QtMELkOZyj74MkHxzXNiewBvPWLMYp3TP4IYKV5fNJz/5yeGf//mfW0WMN+EFnqXF08M5aUrDfmF5MakwRnwQB4FCNLBNBzYkTOIQRl+63POe9xw++MEPtik75i7qNFfbI3WszDEpF5E0+SRfZE/+Y+FcFL+w/Mhz11Q2uGLgBaeMThNEcxm1JlS6OIGD+KGCFjctm3A0rrD8mFQYCV0viBzCRYh6UkWwAs3cxz3uccPTn/701gluoMU0Cp8EGlEmmIkfwkLyAX6xWEH4vgwJV1gNeN4qVTj44IOHJz/5yU0occS0L5xgTRJNnAP8xUVO36T44S+EeyWQy41JhREQJuQLiRYRqfdDwG9961vNHXroocOTnvSkRmQkNbViv/32a+RM+Gwjer34LcrLec2niLYw8Ydx+ML2gOerCY0X5sWyDK20/cQnPrFxgF+mihl4EV5/ti9iVMr6pQ3YZeDG+bjCcmNSYSSGSNj3zxCdnkghGH9iBZoub3zjG4d3vetdw2c/+9l2Pk0dlqJ5jWPxcsyxOtPsiQWa9BMn53Kc8uS4sD1h4MWzDkdYgeC5G3gxjcecRRV5BmkIojUanSeq5j76jrqPC+FQYTkxucW4EZAw5OpJZrSQZagfSMf4eeed10jLclSzx8r7WSEvadgWuVcDrEDPXAXsWae5zAr0JZWKHLcIIhEU1scJxx577PCHf/iHw5vf/Obhla98ZftAIE1vTlrFneXG5MK4EWEicMLFwgNfzajB1dBGC1mRz3rWs5q1iMC7E0Xy1QCrz/QvAzAcrpn1kAE+UHH7d8y97nWvNunbwA1+6IYB/I0rLC+25OmtJTTp47NV8/aWoykThx12WKvl9SseddRRzWJ03Avozwr5prYvrAZi4alY01JgGcYq9He/3/qt39phWYafYKt5nWk8aY6DNCOUheXEpMKIQGO3CPwjioBoxHCfffZpHeScj/wRE2GFXzSvbGcQMvdl6oW5sP2AOxFEIGw+LT3ooIOGF7/4xc2ZBeGrlwwY9pWwCeH8Yh0u4k5hOTG5xbiWGEKIassRKyB6anJNHcQM6fhJj+sJ+7Mg6WS/sDrIs+fCLfzT94iDuNVzQgWaVs3YCRf+FpYXW2YxroX+HKJB/PQr8iOUiKm23kyaO4txbb8r0y7MB55rOOaZswoJWvwzEEgYMyoNwqSCjgg6jl9h+TF5tYY4a5EH8RaJUGpf59TiadaEwM5nas/PihC8L5v04wrbD551L2YRPuDvuacPUUUcfvSc6PdhfFxYTkwqjCFiamZAohDTuQgUED8QPrAfAbVN3IT9WSFP+feQNpfyFLYfImQ9D7MFnCCK/Zcv4Wj40YcfHxeWE0v1xoeUaUpz0Nf0hcLOoBe3saDhGb6lGU08+YH9wvbFUgkj4oasJuFecMEF7QsEzWh+hcKuBEH0M6wPfehDbTEJPDMSXaK4/bFUaqJZg6ycibjveMc72kRc36qOa/tC4bbCt9AXXnjhcPrppzeBzP9dbmt/dmH+WCphVFOboqPWtsyYr2F84N/3QRYKmwU+rWf9WUDCp6jmz1qo1qwISLO6sH2xVMKIkAZZ9C1aduy4445rk719mVD9jIVdgYhl+rN9m3/iiSe2iliFzB/fShi3N5bOYtSMQU7fqFpyHmEjloXCzmDRgIsKVj82p+vGN9H5K6VzsRarIt7emFQYQ6YxGTdb+xJAPyc6//zzh7POOmu4+OKL28IS0s3aePofgz7d8T6XFyPHkLKN/VcZa92D/v7M8V71zzLYqIwqXsuIWTjimmuuGW644YbGrauuuqotOUYgYTzYl+vfjGD25SnME5NbjEjRE5ZDJi6kDcl6OPaHQGswWnr+wx/+cNtaAcWPz6+//vomkoid+EmjP+aSf873ZYpfwq46ch/yfHJP+m1/Lv6wGZHY3eifa1+2MViIfp9KAK3eZFUdP23DKwN8Z5xxRhuA6ZHr1lpJi4VfrnucX8+zwrwxqTBas04ntr6aRQTpybvoPOISPk0bq59o5li4Fnk1e6SftHtShpD8kNa+Gt+xfWWy7h5rwHGILYzjVYbrzz3I/ePsL7rHkHNzv3d9+VWqKthzzjmnDbL4v5BfGuiy8X8h3HM9fsDmX9NW8SaeZkewKHP9OBP+jK8/96XPtzBPTCqM1rHzw3LiBb0A9SLUEwqJhOOnP9EIof9K+72BVVAsPeZfwLYGZDS31yNeT0xbI9rKRBizhNmY0CnnKiPPp783Oc65PCvbcdg5ImUFv0m94oormshZEDn/kfbFi9XireZEJP3Cl1Wp5aKpreWS9Rqlx7kfheXGpE/QfEP/lbZKTi82yLnoZQpp40e8LA5qGgU/RCWU/ilNNIkaJHy2ST959GCBmrzLYhj/2CgYx1kl5L71IgLxSzMy59yr3K/ef47oy0norrvuusYnlaxzys5C9BEBsQR93HhMOE3l+epXvzpceeWVLb7wqSQW8QiEmfM9KdyMSYXR4IgObD+3Qo4Qc0yWHDsfB4RP3K9//eutOeMYOQmm/f7l7S3QHqnNhXXeS6GZxFKIYCdeX45VhWuP69H759yi4zkDFzxvE7c1if1sTTdN5ivimn5FA3rmzDr2ywOVu79TElHdOZrVunSkF36thf7+FOaLSYURaTR1Y9kFPaEIUS9wYF/neP7QRmCJocndmjr+AaO5s5aFEjLKw1Y4zr7yxD/bOJDeojRXCf09Gd8b97GvTHIMuZ9zh5YCbuECS1C5cVRlqR9RV4ufrhHBvffeu4mi68JJ3UJcrjVccVxYXkz+9CI0SNS/NGPx6c9p7qrVNXU0WQihY8Q1nUJThx/06SQv6NML8UPkCLFtXB+vj7uqcE9Y1Cx101lMlXr/+9/ftvrdNDnds14M+/s4R6Ry5JTVP6QN4DkmlprIKmKWoesijv5t/tjHPnZHC8X90Let+e1a4xZde/KKK8wXkwpjTxjE6InTE2VMGi+kznH9OwSRGPqwn7OQBFFUmyNrX1OPCZj93j/lSVnG4fvjOUA5vdApM6slZV8PCb+ZsD2Ed4+AWOgKUUH5le1f/MVfDO95z3va8zC1BSKMmTa11fcv17voWTp2XtOZFagVgmP5jzlhVOka5DNjAb+ENYjoviesf8Q85CEPaWnmfi3Kz7mUJ9vCPDGpMIYoPWEQZEwgx/wjAIiGiMh7+OGHty9eLr300uG9731vq7ER06BMb61sBiGnOHE5nhNcfwQcevHv99dDf225p0lvszBKe+9737vNAsiXIAa9/I+H1SQ9z4yDzZZtdyHX119n/2yVzzlNYb/hffjDH976Cs2PZRWbN6syiDCKK47rE878RoMyrEgDgSoD54Xr8xljZ+97YXpsLXNHQBguBLTv5dOPqD/Rd6tE0HSdl7/85e3fvscff3z7g2CmAG1HLHrRIpYbvYSQ+xokzkbxQJgInKlN5nxqUkrPc/FMVFhZyDXhWVdzR4RMWTWXjznmmDZ3UcXL6XM0A+LAAw/c0XQmlAZfMlJ96KGHNkuTxSzM+F4XlhOzEkZAvhArL67aGkHzU3NbPzknkKbqaNrw366IiPXOC83Z3wgJMxZHx7Hu1kJe9OTJcje9SVOTILAWIwggXFyf3xwRziinipXA45MBFtO3XJeKgMv8WFZkvoAhjCxlI9r88jzEKyw3ZiWMSDWGFxGBcw75kJTzUoeMG73gywzX1r/EfSVgKslGlQLLiHMvuV7E3L/1kPyE5YzemrtHOAiJZjVr0TlIWRJ+zmABu/5YjspO1Dij0e6t6WC5X65ZF8673/3uNhn8vPPOa9/s+4TQfRFOWtLZznxcBczOYoQQMSIY0nrRNFl0eNvPOoz2hduucP2u0X3xwnH2c905t5YTxr3ivPQJD/bXg7y5pGX02Si0JqVpLCwm6Uon5ezFcc5QXkLmfqasBvrMk7366qvb/FZ9qCxkFQph1KftSxcDTgTRly8qChanNMJXrrC8mNXTG7+stnmRbb1w+UzLvho9cbLdjnD9rs81e+G8fOnrIlSbccJyLBtiIE3pbdayiSCrlDQnNaMzCOM5RFx6UZD+nJ+LsrmXOKXsRFGT2EwHAyusRjMePvOZz7TZELoNnve857XR+De84Q3D6173uuHP//zPh1e84hWtCU48Xbvrdo8Ly4s9brzxxsZc/Si7G6eeeupwySWXDCeccEIbXc4XBkgJeYlyjGgRRi9famMvobA5t7PoX1aTxU855ZQmGieddFLraO8HEuYC1x9RZDVbVYjFQqRcz3plFU8c16VfzDw8/WjieIndx42Qe+474Te96U1NYN2vww47rJUpzyP3Vp4blWt3I2Vh/b32ta9t/dLPf/7z2wAeK9e1K59w4ZVKxL1mLTpmCe61117NMhaG4ImLm647909Yfs7Zdy7XLn3zPU877bR2/3/nd36npSm9wtbCew9j/bv9q171qj+xEzHYnTBZFmmMIpv2gRh5OW3jgpzPfoiU/T7sZiAfLulEeFkJrt+IpBHXcdo7m8+uhhdLOSNgysNSi9VmRJUzl26RI4JeSPsmIrv3rCTIvZCH+xGRgNwv+XGendFY/WumRxn8ysAE4b3sssualWV+n+YnkeByP6WftAhQpsDIA+yDMoBj+zkWzn7CZbselJmVqwnsqxb3wWBd0okD5SSEpt5oQuOC7gL3KtewaJu4nk+2zskjZXa9KjH3n3WZ+1LYWmglwFj/Jn0yCIogmoH9CxeSrYeNzm8GyS/7CKwcmkkcS6Ev11zQl8dLRoiIm/l1xMmUEXPp1nI5/8hHPrK9mEb1gVCxgGxdt5c11h/Xv+TguZngTQQ1K02hIhpqXSvNsL7F1xfnCyVz/dxT8SMSiGifBSY9Tj4hqHP8Esc2AmI/zjnlXg+J6xrxDv8Ipbg5P0bSFy+uD5f9teL2cMxJQ1nl7zrdh8K8MakwemE0URAkpJ8SIaq8OYT1oigTF9JOXa6N4KWKePVl5wjXRk54gqXrQs2Y+xCLzjlpgfvhPiS/Pl+iaOBF2Hwp4pzv1HWR8NcaYJWZXuUcB/JjIXLp4+TSF6cc8k24IGXhL33bXL9ybwThCK2+wvwCVXzpTAH5yw/nfcKq8sj1FOaLSYURQXvxCTn6Wnx3I3kmP2VhLbKCEHaqcuwMCEDEK+KgvF50Lxpnfy3nnquUNOVYdxG7WGzuvzRdO0c8baUrH+flK75PM1mcmpr89TXmhdcMFVfzU18tKzVpEVTi1OcjvHI45/rSvHdOc5y1KYzyug7HzsXKtb8ecl45XX+4x00N5S2LcXkwaR/jpz71qTYVwtJOGdEEBPbCRLR2B+SRfPLC2PeyGYFEWH8c1ET1kvZl2Z3l2gyUkYswEnIDL+bTnX322W3KyEc+8pE13Qc/+MHh3HPPbaOtrD7CxaLrBRfcF6JDwKTNydcire6BgRf9iL4Kca+koe+On+kr+uYIpYEhW+LJSpWu746ttO5Yv6Q8CSpO+PZaE5/VSHhNh7FqtgELYfRrmj9oUrmyE2bxN3ouESBl/OhHP9qa/vqR9TGypKd8rqb0uH/umdXB3avc98LWwXsPY/3bkicTYQo2Q/LbCnnGyavPzwuZFyX+KePuLtdmoALx4PIieak0V5/xjGe0qSI+j3zpS1+6pnNeuN///d8fjjzyyNY/6PpYMbG+0qTN1BXCBkSIpUP4CBtRYQ1KAwgna058C3kQOGGsW+ibY5akchNTaft9QNY0JO7i6QOVjzLpCwRlII6a65rnrl+lqstDeVmBKfNGkL8KwHPeKigDjk3B9cJtx6TCGEKkORPxmQLyTv7ZTzkC5YmDhJ+ynIvQ36+UxXQPi6cSjQMOOGBdZxSUmLHyjF4TVul4UYmFl1X6rpfoRMh8B01QfPJmUQUCbZqVQR+CJXwESnxl0hIg2gSOxUcA5UUwLdQgT6siWZVH89ZIMYtUGGKs6UwkWZbKJh9WovQ164Wzn7Kvh1R2uWfZt+WmQPIG5eZShsJ8sSXCiBhjwvTH0B9vZn8j5GUYx5G3lzukXQRxdiav3QFlJ1gpq+OIWs6t5YgNpEkO4kiLEOY4TnPvCU94QhvFdqz5TSCJ61Oe8pRmLSYsEdNE1WwWRvoESdrZJ5zykS6rUtNZE5+QEsxYrCxNU4vEYWnKn9BKRxnkZwqN8yn3RnCvhLX1DPOMp3iefR7y7Z9dYd6YVBhDzP5ldOzlDUImgwL2he1fgvQJOCdM9hNvI8grJM0xKIv9RaRdy38q9Pn3fYI7CxZf+nWlJ62kF3+iQ3AJHQuPhUgMn/a0pzWxJGbO536xPolj+sw4z4LFJ037KTsrkpVI7PSzpf9QGPGIo+diXqnnrC9aXixJznPTHNfHKs08w/XgelyjuOHIZrmyK9DnpbyuU9mnLENh5zGpMOal88LkBYpDGtvU7l6AEEmcvATChOQsIVsCmZdvLUQMhc9Lbdu/OL1lUdgcNHVjMWY+qMEOIqdJHRHVT2kAxbnf/d3fbX2eLEGT/vVdCuN5ekasRVvNfvGIqWfkuRBNceTj2W0EcTxTYfVTmj9pX978dyfCqVTs7gWHe4V5Y9InhCBeGKRE/IiQlwLxbfl7GYRzzAXCZ5RTJ7yXLM21jcQMGZNHT9hMWeEf0krPsTTjCovh3mgOa2YbzTZCbfqNJrPJ5yxM91cfpfvuc0TNYfeaBer5GYn2LKTl2RNI/Yq+rvG8WaTS8/wIol8QxBpdD857jhEiVqf4/OWxOwUqeUcMAbf1k9aUnfljUmGMOCEK8XEcciIKMTQlw9QGc+YQKy+McGk6a5J5Ac8888z2hUXCbQR5cH05vGBcxJUbQ/qFxfCyEzrNbhYiATMoRAB9k+y+utcsSoM5rEv3nwDqqxSWsKYf1DZzIFl3jk2hOuSQQ1oe9i0Fxn+j5+JZet7CpZVif4rnmXz6MhB5XQ7K7r4U5otJhdFLRMBsI0AhKVFUmxK6TMmIUCWMFwycM9rpawt9VEi2EdFC0B6O5Ss9+1zyjCusD8+E4Oj6MPqtX1D/oVHtWHW2xI8D95no2epv9A23/YiHr2oIZu6/tP12gDgSRv49h9aCcoEKdRx+o7i7EvJWBtZxWkvhdGGemFQYNY9YFF4KxIgQgWOkIY6aShl99FLpY0ImL6Hw+rW8fLFIEn89OC9+8pUex2pkzXBqc+kJk/T6MhZ+Gu6N+xhhg2yds2/rPOd5ggopFpx7norQsX3PKgLSp2E/8ZxfDwlvQrkpQZrmnvFUSJldnxF5I+6sXcf8C/PFpMKorwhBTMsgSKnRgSjqM9TUQmDNDeRB/vPPP3/H8locmP/GqiC2eak2QuLn5fLysVCUiRgrU15CsN8fF34ano976d6NkfvNeZaeE5f7yi8C0VdwqZxSEXLyEdc2gsh/PYQ/njFeqZSn+MIrUD5lVg6CjNfKoTw99wvzw6RPh7gZVcz3uoAgCKRDWue9znoWZUhlSocvKJwLmTRL9DMiOksvLxL0LxtIp3+BhJMOJ5zOeKOcWUTCi8RfnD5sYTGIV0Stv+/AP/dZOJVdRI2QZh8SDpJewJ+f+MLhheNFYtxDnsJ7tgZ/LImWEW9Ifo7jZxtu5jwuZN82fAq3chzET94pMx771NFXP1pFhXlj0jceIYwMhnghEAHih7TIjJzIBEYsvQA9SZ1HMpYeIQUCl0UT5CEvHfy2wicfLvnKw5bIypvVCsm7sDnkvkaIOMdBLHEgFNnXrI4I8hsLIvDv40cgN4M8c8/f54Qq5HCLf0SOH4eD2cIiMXQe4hfXh4mfPOLSIsJPaSRsYZ6YVAEQBEKiEBRRWIFZUYXLCPW1117bwnghxHGO5an294JonhM1S19Z/8+H+r6syHqAqaGLiIUxCDkRJLxEWoshlTD/XqhxtZ87GfHETfsqYYhwCl9YXmyJMBKpXqjsI6Ma3SIDWWHFajBEjrgROv/ecKzPUZ8ga1E81gBRJYAmEWt6W/RA80kcFmERtbAIvfWGIwb6Lrzwwta9EvGz1QqxcjluqrRBXJWyCeqccPwijoXlxZaoBYGMSAJCmpJhlNk3tGeccUZbZAAJDbA4TwxPP/30tuIKf/Pk9C+yINXimtWmeWRqhmNTO4SZssO9sFxgKeKiChaPtETwT8WMSxFNQmn5tosuuqiJp3jiaKlY0sxKQSzKdCcUlhtbJowQyxGRDLg85jGPaVsLBhA38+KOPfbY4bjjjmv+amcw+dcIHyCokT7TMUBtbqqPVWesvWdaj+k9hcIiRMTSamH1GTW2D7iaMOnbjEWYCj5h+PfhC8uLSZ9ghBB5+mNgMZoU/NznPnd4wQteMBx//PFNADWXjzrqqPZ3N9/YWtDAp2YInCYNqxEIp+a06UD6HoFwpklUKPTAvYgca5G1ZxK6v/ipUCOERNJXOs9+9rPbZ4wqWvEIIM4effTR7W+JpuTwD6cLy4stqdr62jhbjohZP9AXDj4vMxkW+Qgd648/S1A4RBZH08cq0PoSfUoIms6sTs2cvjlUKIyBQypOHDHwQvQsd2YqWAZabIke7mmdCAe4qa87f2MkpLEWw/HCcmJyYURE5EFEzjES2XIJEycsl2OkdBxyshAN2li4gMWoT5GfxVXV3sKxBOTRkzX5Q9Lu4bgPU9h+8IzDrR7xswX8CfhzxDLnoY+TMIXlxaTC2ItTTx7ig1A90XoyshBBOPFzDjnV4AZofHOrRtdPyU9NrvnDeuxJukgMU67+XGF1gE955uFgz0XI+bRUAvtjvizyKywXJhVGiLgtEqiNMBYu1qBPAjVj9Alpflu+P4sYGJkWRvjU5H3ekPIkTcdx/OJfKBRWB5MKo75CQhYrrheozUCcviYXXw0uPaPWmfDN8Yso9ohAipsOdM1vfUvpI+rLZX9ny1koFJYbkwpjv4hE33zZGeHpw4ofx5+o9cIZEYQIHNfHMxpueg9htL+oqVQoFFYLkwqjT65MgjW9JgIFOyM+4rH00vzt0+B6YRyfh4gjxDr0VYNPujLVIuezTdxCobAamFQYjR5bJcfoMXEkbtAL2Hrow0XA4qSV9LI/TjMWpXMRPSPYvmrw/TXRztQNSLqFQmG1MKkwRnAIViy7iE/OrYeIXQQuQrmZuEHiJ66mM5gsnong/XmuUCisFiYVRiITEYv49PuLvhoghvEXhqXJJW5EdZwetxkkXQK5makYhe2DtA76VoLunlSQaS2k6wfih5OF7YtJhRFCsB69oNkPWfPJX/w5I80cgmbBiIhgL2L9/lqQT1zSDxaVs7C9EN5E7CBfVXn+Fpe19B2+BeHIZivewnJiVk83YoR8iIegEUXkJZY5Z4uwmexdNXhhZxEe2fYVoQrZSvPvete7hlNPPbX1i6uEAc/0S4tX2L6YXbUXgiIrFyAioSSQwvQCmeNCYWeAN/iUChhsVbj8WIwGDO1nQQn7XGF7Y1bCGHKmaYO4+nfU0oQvYhjrUc3eN7cLhZ1BKtNs05fo2LzWww8/fPjt3/7tNvcWzKZwjnCGd4XtidmpScQv+/p8euISxRwjKOc4HeaFws4gXFL5pkIGX075wb9PTMNHVmOEs/+Wv7D9MCthREzOyKBVkvXlICJiEkUiaZ/TnFGDW1rMT4aqeVPYWRBDFSqO4Y8vn4ge7nGphPHQT6ycB9ZiBLWwPTErYSR4SErorrnmmra8vK9SIMKXTnDE/du//dvhT//0T4cPfOADt6rtC4XNAKc4Iod3YBT6Qx/60PDud797ePvb395+WeA/Q3/1V3/V+AisxWqhbG9MKoxphtimNuYiampw4ugnVvatpqxJ43yEMc0Zy8/7x4sFRP0ISzzhkrZt3zyyz0Ff2ycc2MaCSLkcJ43C9oLnijfACrSG55vf/Ob28zQrNB1xxBGtlXLmmWe2fxFpyYQ7xBFPuMB+uLfVGJfDft4H+znnuPfrz60yJhVGy4NZHZmgaZaMHwbxI3IWm7AKD/LxQ14WIsJ6uCHnQx/60LYGo45y8ccd4iF9+iYdE7oQhL9VefxYywrhVgzvV/6xVYakU9heCB88a5+E+sOkv1H6ido+++yz4+dqPhnFXZUx7oSv4UmExXG44ngrkXckcJx3CZTPtTjOfq6nMLEwuvFchCkPwcPhT9j8CpUwPvCBD2yr8AjD+UOb/0QTM+BHEC1Gu+eee7b4GajJwwfHGaRJfvw4kGcENeUI+QvbHxlE0XXjD5REMT9lwxmVsd/3RhjxtueIY7DPL9hq/oTj/XsG2eef8uJ/dQ3cGpMKo9+e6q9RA6uJ8/DAA7OIQ/yR0JY/MVSTa+okPOgQJ6J77713O054D1w64uU4rq81CSlS6Dsiuv4To7nUQ/yQv7C9EGsRLwzi+T3Gox/96MY95/CHMJrPiGPW7SSWkK4dW7zj8CoC01fOWwnlwt+ew64ZUinYZr9/v1YZkz49JDOSjDyxzgAxPTikI47EKQ9SGITVl6j5zTlH+Ph7oJo9Hra4SCy9LDprObGkFTLLPy+F9I06aqpHlKWZ8nFzIXlh1yJ8MMCHlypJv+HFP5WmL140sXHOrzMIZjimUsYtvHHMH59wpRehuSBiGE7n2ntjQblzftUx6RtPrJArTd7AvgejhlZzf/vb324iiqBGqP1sn5VJzIiYcKxHzjHiIucFF1zQRqqvvfbaJnLOf/zjH29pIn8EDhGIn3wRhiArm60wIRGiZL+w/RAO4hmBiwCm8tXfrRl9v/vdr3XXEE+tC3w855xzWivDQOHFF188XHHFFe084MxW8ybinHcL55Up75D3yzb3gEByhZsxqTBGmDy0XnT4e0CcWjtk0xl+3nnnNdHz7erVV1/dhO7KK69sImigxFcJRA+JpYmswnrI+itNt0DYCF7yCSFSFuf78oUkwm01yQu7B54zEEI/T7OSe1oNLEX9jrpw/GxNRYpjBMVves8999zGK2FV3n7faws9v7YKyR93w1+iyNIl9kbZ/XaYH/T8L0wsjMSG8I1rpjxE/YU6uTWR3/ve9w7ve9/7mhjuv//+rSZH0rPOOquJJSvQqDTSAivS3wE9XIRXQ/rOldUILMLk4zxCJFzicL1YF1GWG3nevUiNKznPHO9w7P73v38Ti89//vOthcI6JJAPf/jDd7Qm9tprrzbopzL272m8NFCTFeC5cX7jPHO+918Urj9WzjF6v3FagTDKxM874npc30UXXdTerQij94Ar3IxJ33yE4HrR6R+iB+in+jq6I6CHHXbY8IQnPGE4/vjj28/4PWgkPO6449o8R+khNpE0OZcVqT9SfE0FhEZk20Cc9CNKry8DjAUxRC4sHzzb/vn2++Ej5/O/Qw89tLUyVKasQV06uIOTRAPH8IWYmN5lRoT0DNrhGqF0vud2hCl+yY9/z72EXbQFlqx0IP4RtfTJcyCcc96BHIPzwspfebxHQZ9XYWJh3AjIh4gnnnji8IY3vGF4/etfPxx99NE7Rp7/4A/+YPizP/uz4TWvec3wuMc9rombhyme2pAwaloLr8bXb8QK0FRChsLqoRchYpAKkljwIyD2WYJHHnnk8PznP3846qij2jEeETvzGSNUBmS0RA488MDGP+JJRPWdAwEjSNIVHjflKX4vPBGnwLGwwhBZYqvJLn3NX4M7RDuDPNLWVy+/G264ocUheiAd+RN44bWWwFaLzGBl+vqVQd55P8blXFXMShjzUDRN9Pn0k63NaWQJmjLhHFIih3O2mjYIK5yHrZ+SOCIBYayHvXrIM8eHiFD4YssRLUICtuGcqWXCqWj5AbEhWLjmwwLhCVPiq5iJWCy4IHkKl7BByhies+Kko3/TZ4n61A0mOvapomawPBNPWQjgVVdd1fivjMRQP7v+9vS9AyF0vSqCVBB9OUG6SXuVMSthDHljCYKajX+IlRoekYQD52NVZpqFDmY1rAm74tXDXj3gjOeOK+FQjnEix9Bvic0XvvCF1gpRSRM6/sITSZwyUo1r+KmiBsIUP9yUjzhcgLscpCwBf5YfcRXfICOBJmLKTwCJJmFMPFagJr3y6psniBFF5WL5Cuu9yTVKy37epZSjd6uOWQkjAvUP0AOy35MJYTxY4JfwrMJ99923iSNipn9FM4gVWQ979UD8cCUvf/qtI1bOh1txLELW1yWXXNIqViJEcAgeETIQoz/SMU75jNSXMvohddvoCgK8TJNa3pw85SFeOBw4x18exNj0IPFx11dgPpHVNUQ4OZCmsAYg99tvvyai73//+4fLL7+8iSI/6Ug7Ygj213of+K91bpUwK2HsH0ovfpAmAAjjYRNJBEUgUyU0nR/0oAe1kUJEsq8pJK7whdVCxMgWnzQxWWOZlK3/jgWGV+EIIcQn3PFdv8qWn3N4Z8CPOOKddAmhBSd8MWNWBLGVvn5HedmyJDnphNcpU7icY91F0jR6zBKUn2NxcZzQ4XQsXsKrLMpJMI0060YK96XLCd/nZZ9LGQq3xqyEMeSwzQOE/oHG9UAORPrEJz4xfPrTn279MJo8avJ0PBdWE7iCU5rFuPGe97ynTfmyYo5/upgWln47FS1xe+ITnzi8+tWvHl71qle1wRhCGCFJZZx0w8cID8HFQx8aSP+d73xnc5bGY4Em3JjDSZ8/PpsXqfVD3AgeESeuuowIr75I4b0Xrk1TmmgqK1FkPYojLWVOHvIH/v07Zuu4cDNmJYweWogTeKh5mNlHyNR0HBHU56PW9ID5GXQxpSKkEL6wWsADz50VZjQWd8yFNVfRBwQGNgxqaCpnRDd8wSnNVBWreEQjHIqYOO4FxdYE8Ouvv741xX2gYHvZZZe1fm8WoP5JwtrzMTwGgsWyJWoETssnLSUDj5r6WkYsUWkom/yMTBN109hMbxPGugTCKyNH/MVjRLBmOUJOWCHhCjdp0U214p/Yycjb7gRCmoKQWi0jYyFFEKL0/uMwPRBE+ZHI1wv6fTjEjqjCojSQxVc0XoyDDjqoEXetchWWD150zxPfVJSax5w5sY79usD30awtohiRw6k4GPOIk3b2A+EIGCE2pQenNLXl8/jHP35Hv18EOHGTlvxZg4TOyLf+RUKqGU3UcNq16EMk2gaKTETHe81u4sjfNRNX+8rjOtIc93EEx49BIc3M3Bhfz3ZHKsSx/u1xU43RqggPa3fDryjVoCeccEL70ZBBEtiVDwKxPOAQ2j70Dzx+gGynnHJKa6acdNJJjcy5SatEkO0IzznPuudBtjkfbnBrDY4sQtKEWHUR0D7dHMdvDH54aysMq7PvJwQWoOYxkSNmrGDAX010hoC+SGmwOjkiSPAYDMrFMtQMZ73qWyW4BiflEc67bmksKud2hPcexvq38dNfIiCVB4sEIVmh0POCAEXEwLlYiRBB7MOshwhILybSS5rSl5ZtHwbG/Ew5WXCsWlYgPyKnGW5BZWLJCkxcAmmw0YstT/6sRYJolNx0nVintkTQKDbDRJObyGZKHNeXb5WxrYRxjBCxHvhqoheoABdi1cFt5UcEKukmHdt+PxA+cWwjZn146RCxPr4wKWdfXvusPcfcWIQzRSnlc64/zznuhbywDYUxD7l/IUK+wmqhf/kBBwgEZ59/RAZHelHpxXMtJF0QN/MWkwc/yHHC9/HCS37xD1/7+IF95xJPmHBdmRNWOSDHuT6IQCovAU7Z+jKsOraVMOahjh9wPezVhBeeCHj+ES5bojDmRDgT/4jNWohwJY68IjBBn1ZcL2qJZ9v7Z59/HMgv4XvhcxzRC/hJI+VKejm2zyVswnOFbSaMkIech54HnePCaiHPnxhEJMG2FyuIYMBGfHGei5gkfS7g1yNxYMzLvhwJx/HPvvO2EcigPx+xzvmcc8wlnK2yGpCJqMafW3XMThg9pBAktSLYN90AxvOuuHGNGdSDLnj+RIEQRBygF4sem+XMorhjJK2E7ff7+Iv2+zBcRLcX4HGcfhrQIjc+19+TvgyrjtkJowejyUPsPCjIfh66WhSIJdeH7ZGHX1hdrPf8w4/bypNx3HF6i9LeKE7Q8zrne78x7xeFX4Tk1wvjeuFXDT+tJlsIIufhmJhqbpZZ+WlK2HqItuZfCWsFEV8wmPNVKBQKuwqzEsY0o01ANZnVp0usRyCIEUk1nBnrvg7wv2nLtDtXKBQKuwKzEkYTU30wbza6SawmrRJKyLwujrXIejQ5VRyW5bhJUSgUCj8rZqUmxI3ImbVv1r/Pnwgk+NCfBQmsw6y/aLEIAkowC4VCYVdgVsLoG1HiR+h8phQLURNbX6I+RWAlgma270DzT45CoVDYFZhdU9pSSAZXsjIO65BgWq6daGaAxpQdgzRWGbFuXVmMhUJhV2FWwmhAhfhZdimDLvoc/b+F8BFBYkkcCaa19ezra2QxWoLJYqQXXnhhG5jRLLfCCGHdCOJHXG25DAb1cyszyGOb+ZQ9rKUHwrsO25Q3adj2/mDrWF592EKhMD1mJYw+hid2RqSzThpL0Q/2iRyxsvCmrVWX7bMy9UMSFVN83v72tw+nnXba8Dd/8zft/xdWQs68yM1A2r2AQS+SRIvgOdYnGnGMIOoCEE6e+bifmAtvXznzzw7xpZWFRw0wCStcEKEsFArTYVYL1RIJQphfn1qu3SKyLEH/srC4pjj8CZ9FQP1fmngQIkLp2AKflmMiQP7FYRBHHr3gBFmoVt6WerJQbUbACVziESx5WI2ZI8yc8nCa/sohHGQyOiEUP8eQcrBm9Z1y4rF8IYIMEcUadS8Udj3WWqh2dm+bNeI0p88+++z2Xw5zGl/0ohe1n6ATsTe+8Y3DOeec01Yq3n///Zu1SFSMUhMW69b5s5oLdT5/CNys1RXRiihmnyhaZJeYyVteRI+IE3Nh+08WE4doOucBOCZwyssCZs0Se10FKgzhIoq2nPApR6FQmAazEkY/+jFN5znPec7w9Kc/fTj66KPbz4gMrjzvec8bTjzxxOFpT3vacMQRRwwvfOEL22g0cSIeERBWHBEylYflyIoTJpbcZhBxiiCJb+VjP1KyVR7L4cuDILN+iSErlTiyDuWrHNIiygScSNqXnjBWXbaYKGsT5JdriTDGr1AoTIfZvXEE5ElPetJw8sknD7/3e7/X/terSUw0WZN//Md/PDzrWc9qliHEIjPAovnNoiNKRIUlRshYahtZjNKIEEYYgR+xYxlq0tt3XpmcO+yww5p1aiSdFXj++ee3c8KwVuVtwrp/FWcZdaJoShJxVREoG/GzTTlLDAuFrcOs3j5iYvCCONiPlceiYo0RkzRHiUsEiAVmAvjf//3fNzFkqdkayDE6HatyIxA66cU5VhZiSHQJo62Rb/2SPkfU36l/UjjN4a997WvDlVde2aYdEWiDKn5WpBluepFySNd1KBdBdS3JUxxpCcMVCoXpMbkw9i87Iei3ORfhC2LxETxCwtmPiLLEWI5+ZEVA//qv/7qNTuur5GeaT5C8xkje47JIX/4sUr/a1LdogOfggw9ueb71rW9tYqjMvsJhQRJC4kiY9SOyNv0ATBNcesRPXNeRY5UAxx+Ug3O+UChMiy0RRkLAWtIvZ0vkbIOxdUcs+GXkSBpEMfssSf18flHpZ+mveMUrhj/6oz8ajjnmmB1xiEzyTL4Ej3MuQqhs9jlhnCPSBDc/IuLkybFMWY3C6W/UxNcVwN+P1g3MHHvssa0rIJC2fMThIAIpz+RfKBS2BpMKIxHQtCQknKbnl7/85TZgYg4ikVoPEZEeBIRoEk+WocEMf0EzJcg+YSQ6mrum8/htpDzTzCZg/NN3KJ1+oCZWnIESwkUMpSc8IWRJOh8RJZrK4ZjFqvlNWMXhXKM0lTkiLI5z/JyLMHLSdK5QKEyHSYWRgBBGX6acccYZw1/+5V+2ydiavueee24bKFkPRCIuIB6EJ0ID9vkTlIQlSNddd11rYr/lLW9p1px8zYf0DbawvRWXtKRDXFmC5jiybsE/fAmqqTsGWQiaPPQjElwj5kbPndeczgRwIgjyYLnqJ42opqyOOdeRaykUCtNhUmFkdREXAqgPjkCaLJ35fIRiPfQC0QsJRESAP2GLMIrHwmOlXn755W2iuS13/fXXt3/tmvNomzQg+ekLNHosjHRYmfoNXYd//RJN8WINE1pTeUw30u9IkK+44oo2ap1yE1FWLD+OJWtEnSBGpLkSxUJheuxx00vZ1EUTcXeDGBitJQyaoV76WE2sMlZY34xdD9IIIh5r+UUgWXssN/2TREd5+HPCs/xSLhCv3/epomY/cXTMOnzmM5/ZRs2JJwHknvzkJ7c+SX6u1/WpCB7xiEc0C1J+Bow06QmmikGz30/Q/TxdU1y+KXua3oVCYdciU+jG+jepMIIXHSJGXvgIUERos5AG9OLV+0nbcZrFycs21limygQpV48cE0TdAUkv8UE8jsXX+4Fw8o0/jPPkhBM/+Sknl+NCobBrsZYwTmqG5OXPy35bX/hxGtLN4EUPfrFEcy6DLMoUQbXt90F4x5z+QVsCJ378QXhh4+844us4eeVc/BMm5Uvatq4ncQqFwnRYqvbZRgKR87G0IMISwSNAY8GJHxdB6tHHJ2L2gYBlP8IGwklHU1paEUHbnAfHfV79+bjELxQK02FSYfSC5yXvX/jNvvwbhVl0Xtoc4erFS9hxvv2+sDlO/MTp0xmnyRHFHikDOJ84Sc92fNzHKRQK06LevEKhUBihhLFQKBRGKGEsFAqFEUoYC4VCYYQSxkKhUBihhLFQKBRGKGEsFAqFEUoYC4VCYYQSxkKhUBihhLFQKBRGKGEsFAqFEUoYC4VCYYQSxkKhUBihhLFQKBRGKGEsFAqFEUoYC4VCYYQSxkKhUBihhLFQKBRGKGEsFAqFEUoYC4VCYYQSxkKhUBihhLFQKBRGKGEsFAqFEUoYC4VCYYQ9brzxxv+7Zb9QKBRWEnvuuectezejLMZCoVAYYY//uwm37BcKhULhJpTFWCgUCiOUMBYKhcIIJYyFQqFwKwzD/wMXKOhwTtzdrwAAAABJRU5ErkJggg==)\n",
        "\n",
        "* **The Jacobian matrix is a 6 x n matrix (n - num of joints)**\n",
        "\n",
        "* The Jacobian is a matrix that relates the joint velocities of a manipulator to the end-effector velocity. It can be used to calculate the linear and angular velocities of the end-effector given the joint velocities. The Jacobian is an important tool in robotic control and is used in tasks such as inverse kinematics, trajectory planning, and force control.\n",
        "\n",
        "To compute the Jacobian of a manipulator given its DH parameters, you can follow these steps:\n",
        "\n",
        "1. Calculate the transformation matrices between each frame and the base frame using the DH parameters and the current joint angles.\n",
        "2. Calculate the positions of each frame and the end-effector using the transformation matrices.\n",
        "3. Calculate the partial derivatives of the end-effector position with respect to each joint angle.\n",
        "4. Calculate the partial derivatives of the end-effector orientation with respect to each joint angle.\n",
        "5. Assemble the partial derivatives into a Jacobian matrix."
      ],
      "metadata": {
        "id": "ufSHSUMZjtoO"
      }
    },
    {
      "cell_type": "markdown",
      "source": [
        "## Forward Kinematics\n",
        " * To calculate the forward kinematics of a manipulator given its DH parameters, you can follow these steps:\n",
        "\n",
        "Define the transformation matrices between adjacent frames using the DH parameters.\n",
        "Multiply the transformation matrices together to get the homogeneous transformation matrix from the base frame to the end-effector frame.\n",
        "Extract the position and orientation of the end-effector from the homogeneous transformation matrix.\n",
        "Here's some sample code in Python that implements these steps:"
      ],
      "metadata": {
        "id": "lbwcpk9IhF86"
      }
    },
    {
      "cell_type": "code",
      "source": [
        "import numpy as np\n",
        "\n",
        "def forward_kinematics(q, DH_params):\n",
        "    \"\"\"\n",
        "    Calculates the forward kinematics of a manipulator given its DH parameters and joint angles.\n",
        "    :param q: array of joint angles in radians\n",
        "    :param DH_params: array of DH parameters [a, alpha, d, theta] for each joint\n",
        "    :return: homogeneous transformation matrix from the base frame to the end-effector frame\n",
        "    \"\"\"\n",
        "    # Define the transformation matrices between adjacent frames using the DH parameters\n",
        "    T_list = []\n",
        "    for i in range(len(q)):\n",
        "        a, alpha, d, theta = DH_params[i]\n",
        "        T = np.array([[np.cos(q[i]), -np.sin(q[i]) * np.cos(alpha),  np.sin(q[i]) * np.sin(alpha), a * np.cos(q[i])],\n",
        "                      [np.sin(q[i]),  np.cos(q[i]) * np.cos(alpha), -np.cos(q[i]) * np.sin(alpha), a * np.sin(q[i])],\n",
        "                      [0,             np.sin(alpha),                  np.cos(alpha),                 d            ],\n",
        "                      [0,             0,                             0,                            1            ]])\n",
        "        T_list.append(T)\n",
        "\n",
        "    # Multiply the transformation matrices together to get the homogeneous transformation matrix from the base frame to the end-effector frame\n",
        "    T_0n = np.eye(4)\n",
        "    for T in T_list:\n",
        "        T_0n = T_0n.dot(T)\n",
        "\n",
        "    # Extract the position and orientation of the end-effector from the homogeneous transformation matrix\n",
        "    R = T_0n[:3, :3]\n",
        "    p = T_0n[:3, 3]\n",
        "\n",
        "    return T_0n\n"
      ],
      "metadata": {
        "id": "hWHpNDuPhRaP"
      },
      "execution_count": 97,
      "outputs": []
    },
    {
      "cell_type": "markdown",
      "source": [
        "## IK\n",
        "\n",
        " * [The Ultimate Guide to Inverse Kinematics for 6DOF Robot Arms](https://automaticaddison.com/the-ultimate-guide-to-inverse-kinematics-for-6dof-robot-arms/#Real-World_Applications)\n",
        "\n",
        "* [Numerical Inverse Kinematics](https://colab.research.google.com/github/jhavl/dkt/blob/main/Part%201/4%20Numerical%20Inverse%20Kinematics.ipynb#scrollTo=mg_8anKTIafy)\n",
        "\n",
        "* [Advanced Numerical Inverse Kinematics](https://colab.research.google.com/github/jhavl/dkt/blob/main/Part%202/6%20Advanced%20Numerical%20Inverse%20Kinematics.ipynb#scrollTo=gj_0nqIXKCSl)\n",
        "\n",
        "\n",
        "* Each method seeks to minimise the error function\n",
        "\n",
        "\\begin{align*}\n",
        "    E = \\frac{1}{2} \\bf{e}^{\\top} \\bf{W}_e \\bf{e}\n",
        "\\end{align*}\n",
        "\n",
        "where $\\bf{e} \\in \\mathbb{R}^6$ is the position and angle-axis error vector (see Notebook 3), and $\\bf{W}_e = \\text{diag}(\\bf{w_e})(\\bf{w_e} \\in \\mathbb{R}^n_{\\geq0})$ is a diagonal weighting matrix which prioritises the corresponding error term. The `IK` class below takes a `we` vector in the `init` method and calculates the error vector `e` and quadratic error term `E` through the `error` method.\n",
        "\n",
        "\n",
        "\n"
      ],
      "metadata": {
        "id": "0mb0BbDs6P5h"
      }
    },
    {
      "cell_type": "markdown",
      "source": [
        "# Control Theorem"
      ],
      "metadata": {
        "id": "ZE1LxcqyTc1g"
      }
    },
    {
      "cell_type": "markdown",
      "source": [
        "## sensing simulation\n",
        "![image.png](data:image/png;base64,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)"
      ],
      "metadata": {
        "id": "pOPbQYndGgTU"
      }
    },
    {
      "cell_type": "markdown",
      "source": [
        "## PID implementation\n",
        "\n",
        "** PIDController: \n",
        "\n",
        "  :input: \n",
        "  \n",
        "  current pos , desired pos\n",
        "\n",
        "  :calculates:\n",
        "  \n",
        "   error term, the control signal which is kp * error + ki * integral + kd * derivative\n",
        "\n",
        "   :output:\n",
        "\n",
        "   control signal X -  \"go to current pos + X\"\n",
        "\n",
        "1. initialize controller parameters:\n",
        "  * kp , ki , kd\n",
        "  * desired end point (setpoint)\n",
        "  * last_error =0\n",
        "  * integral_of_error =0\n",
        "2. During a control loop, the controller gets \"current measurement\" and updating (with method) its output:\n",
        "  * error = setpoint - current\n",
        "  * error_deriv = error - last_error\n",
        "  * integral_of_error = integral_of_error + error\n",
        "  * The output is then: self.kp * error + self.ki * self.integral + self.kd * derivative\n",
        "  * and before returning the controller ouput we update last_error to be equal to current error\n",
        "\n",
        "3. During simulation the following happens:\n",
        "  * sensor is used to get the current measurment\n",
        "  * the controller is fed by this signal and returns output \n",
        "  * the motors are getting a control command to move to (current_pos + pid_output) - this could be implemented with IK"
      ],
      "metadata": {
        "id": "9xRAwLRj89qj"
      }
    },
    {
      "cell_type": "code",
      "source": [
        "import time\n",
        "import matplotlib.pyplot as plt\n",
        "\n",
        "class PIDController:\n",
        "    def __init__(self, kp, ki, kd, setpoint):\n",
        "        self.kp = kp\n",
        "        self.ki = ki\n",
        "        self.kd = kd\n",
        "        self.setpoint = setpoint\n",
        "        self.last_error = 0\n",
        "        self.integral = 0\n",
        "\n",
        "    def update(self, measurement):\n",
        "        error = self.setpoint - measurement\n",
        "        derivative = error - self.last_error\n",
        "        self.integral += error\n",
        "        output = self.kp * error + self.ki * self.integral + self.kd * derivative\n",
        "        self.last_error = error\n",
        "        return output\n",
        "\n",
        "class RobotArm:\n",
        "    def __init__(self, initial_position):\n",
        "        self.position = initial_position\n",
        "\n",
        "        #for plotting\n",
        "        self.counter=0\n",
        "        self.count_lst=[]\n",
        "        self.pos_lst=[]\n",
        "        # Create a figure and axis object\n",
        "        fig, self.ax = plt.subplots()\n",
        "        self.line, = self.ax.plot(self.count_lst, self.pos_lst, linestyle=\"-.\", marker=\"*\", color=\"k\")\n",
        "\n",
        "\n",
        "    def move_to(self, position,plotting=False):\n",
        "        print(\"Moving arm to position:\", position)\n",
        "        self.position = position\n",
        "\n",
        "        if plotting:\n",
        "          # for plotting\n",
        "          self.plotter()\n",
        "\n",
        "    def get_position(self):\n",
        "        return self.position\n",
        "    \n",
        "    def plotter(self):\n",
        "        # Update the line object with the new data\n",
        "        # self.line.set_xdata(self.count_lst)\n",
        "        # self.line.set_ydata(self.pos_lst)\n",
        "        self.line, = self.ax.plot(self.count_lst, self.pos_lst, linestyle=\"-.\", marker=\"*\", color=\"k\")\n",
        "        # Redraw the plot\n",
        "        plt.draw()\n",
        "        plt.pause(0.01)\n",
        "\n",
        "class PositionSensor:\n",
        "    def __init__(self, noise=0):\n",
        "        self.noise = noise\n",
        "\n",
        "    def measure(self, robot_arm):\n",
        "        return robot_arm.get_position() + self.noise\n",
        "\n",
        "# PID Controller Parameters\n",
        "kp = 0.5\n",
        "ki = 0.1\n",
        "kd = 0.05\n",
        "\n",
        "# Robot Arm Parameters\n",
        "initial_position = 0\n",
        "desired_position = 10\n",
        "\n",
        "# Create objects\n",
        "pid_controller = PIDController(kp, ki, kd, desired_position)\n",
        "robot_arm = RobotArm(initial_position)\n",
        "position_sensor = PositionSensor(noise=0.5)\n",
        "\n",
        "# Move arm to desired position\n",
        "i=0\n",
        "while i<100:\n",
        "    i=i+1\n",
        "    measurement = position_sensor.measure(robot_arm)\n",
        "    output = pid_controller.update(measurement)\n",
        "    robot_arm.move_to(robot_arm.get_position() + output,plotting=True)\n",
        "    time.sleep(0.1)\n",
        "\n"
      ],
      "metadata": {
        "id": "ucCTY0YYAvYV"
      },
      "execution_count": null,
      "outputs": []
    },
    {
      "cell_type": "code",
      "source": [
        "import numpy as np\n",
        "\n",
        "class Motor:\n",
        "    def __init__(self, initial_position=0, max_position=180, min_position=0):\n",
        "        self.position = initial_position\n",
        "        self.max_position = max_position\n",
        "        self.min_position = min_position\n",
        "\n",
        "    def move(self, angle):\n",
        "        new_position = self.position + angle\n",
        "        if new_position > self.max_position:\n",
        "            self.position = self.max_position\n",
        "        elif new_position < self.min_position:\n",
        "            self.position = self.min_position\n",
        "        else:\n",
        "            self.position = new_position\n",
        "\n",
        "    def get_position(self):\n",
        "        return self.position\n",
        "\n",
        "class PIDController:\n",
        "    def __init__(self, Kp, Ki, Kd):\n",
        "        self.Kp = Kp\n",
        "        self.Ki = Ki\n",
        "        self.Kd = Kd\n",
        "        self.error_integral = 0\n",
        "        self.error_previous = 0\n",
        "\n",
        "    def update(self, setpoint, feedback):\n",
        "        error = setpoint - feedback\n",
        "        self.error_integral += error\n",
        "        error_derivative = error - self.error_previous\n",
        "        self.error_previous = error\n",
        "        control_signal = (self.Kp * error) + (self.Ki * self.error_integral) + (self.Kd * error_derivative)\n",
        "        return control_signal\n",
        "\n",
        "\n",
        "\n",
        "# Example usage\n",
        "pid_controller = PIDController(Kp=0.5, Ki=0.05, Kd=0.05)\n",
        "feedback = 30 #current feedback\n",
        "\n",
        "robot_motor = Motor(initial_position=feedback)\n",
        "setpoint = 10 #desired setpoint\n",
        "\n",
        "control_signal=1000\n",
        "epsilon = 0.000000001\n",
        "max_iter = 10000\n",
        "i=0\n",
        "\n",
        "while abs(control_signal) > epsilon:\n",
        "  i+=1\n",
        "  control_signal = pid_controller.update(setpoint, feedback)\n",
        "  #move poisition of motor:\n",
        "  robot_motor.move(control_signal)\n",
        "  #update fisback\n",
        "  feedback = robot_motor.get_position()\n",
        "\n",
        "  if i>max_iter:\n",
        "    print(f\"exceeded {max_iter=}\")\n",
        "\n",
        "print(f\"Control signal: {control_signal}\\n  current motor position: {robot_motor.get_position()}\\n iter {i}\\n  error: integral={pid_controller.error_integral} , prev ={pid_controller.error_previous}\\n\")\n"
      ],
      "metadata": {
        "colab": {
          "base_uri": "https://localhost:8080/"
        },
        "id": "54UfhlHqThsN",
        "outputId": "bc94e45f-0f57-4a72-9abd-cdfd51b48cf5"
      },
      "execution_count": 2,
      "outputs": [
        {
          "output_type": "stream",
          "name": "stdout",
          "text": [
            "Control signal: 9.122482325096824e-10\n",
            "  current motor position: 9.999999993140406\n",
            " iter 167\n",
            "  error: integral=-5.843988759579588e-08 , prev =7.771841836756721e-09\n",
            "\n"
          ]
        }
      ]
    },
    {
      "cell_type": "markdown",
      "source": [
        "### PID PROS AND CONS\n",
        "\n",
        "\n",
        "Pros of PID Controllers:\n",
        "\n",
        "1. Simple: PID controllers are relatively simple to implement and tune, since they require only a few parameters (proportional, integral, and derivative gains).\n",
        "2. Widely used: PID controllers are widely used in a variety of applications, including process control, robotics, and automation.\n",
        "3. Effective for linear systems: PID controllers are effective for linear systems, since they can model the behavior of linear systems accurately.\n",
        "\n",
        "\n",
        "Cons of PID Controllers:\n",
        "\n",
        "1. Less effective for non-linear systems: PID controllers can be less effective for non-linear systems, since they may not be able to model the behavior of the system accurately.\n",
        "2. Poor at handling disturbances: PID controllers can be poor at handling disturbances, since they may not be able to adjust their behavior in real time to compensate for changes in the system.\n",
        "3. Limited flexibility: PID controllers are less flexible than impedance controllers, since they are designed primarily for controlling linear systems.\n"
      ],
      "metadata": {
        "id": "Cuk9mvDxLdiC"
      }
    },
    {
      "cell_type": "markdown",
      "source": [
        "## Impedance Control implementation\n",
        "\n",
        "\"\n",
        "Impedance control is a control technique that allows a robotic system to interact with its environment in a way that emulates the behavior of a mechanical spring and damper. The basic idea is to adjust the impedance (i.e., the resistance to motion) of the robotic system based on the force and position of the interaction with the environment.\"\n",
        "\n",
        "* ![image.png](data:image/png;base64,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)\n",
        "\n",
        "\n",
        "\n",
        "1. initialize controller parameters:\n",
        "  * stiffness , damping\n",
        "  * desired position and velocity \n",
        "  * current position and velocity = 0\n",
        "  * current force = 0\n",
        "\n",
        "2. During a control loop, the controller gets \"current pos measurement\" + \"current force\"  and updating (with method) its output:\n",
        "  * pos_error = setpoint - current_pos\n",
        "  * vel_error = desired_vel - current_vel\n",
        "  * The output is then:  stiffness * error + damping * velocity_error - current_force\n",
        "  * and before returning the controller ouput we update current_velocity += output\n",
        "\n",
        "3. During simulation the following happens:\n",
        "  * sensors are used to get the current pos + force\n",
        "  * the controller is fed by those and returns output (control command) \n",
        "  * the motors are getting a control command to move to (current_pos + impedance_output) - this could be implemented with IK\n"
      ],
      "metadata": {
        "id": "avhEfRrQDqBe"
      }
    },
    {
      "cell_type": "code",
      "source": [
        "import numpy as np\n",
        "import time\n",
        "\n",
        "class ImpedanceController:\n",
        "    def __init__(self, stiffness, damping):\n",
        "        self.stiffness = stiffness\n",
        "        self.damping = damping\n",
        "        self.desired_position = 0\n",
        "        self.current_position = 0\n",
        "        self.current_velocity = 0\n",
        "        self.current_force = 0\n",
        "\n",
        "    def update(self, measurement, force):\n",
        "        self.current_position = measurement\n",
        "        self.current_force = force\n",
        "        error = self.desired_position - self.current_position\n",
        "        velocity_error = 0 - self.current_velocity\n",
        "        force_command = self.stiffness * error + self.damping * velocity_error - self.current_force\n",
        "        self.current_velocity += force_command\n",
        "        return force_command\n",
        "\n",
        "class RobotArm:\n",
        "    def __init__(self, initial_position):\n",
        "        self.position = initial_position\n",
        "\n",
        "    def move_to(self, position):\n",
        "        print(\"Moving arm to position:\", position)\n",
        "        self.position = position\n",
        "\n",
        "    def get_position(self):\n",
        "        return self.position\n",
        "\n",
        "class ForceSensor:\n",
        "    def __init__(self, noise=0):\n",
        "        self.noise = noise\n",
        "\n",
        "    def measure(self):\n",
        "        return np.random.normal(0, self.noise)\n",
        "\n",
        "# Impedance Controller Parameters\n",
        "stiffness = 1\n",
        "damping = 0.1*5\n",
        "\n",
        "# Robot Arm Parameters\n",
        "initial_position = 0\n",
        "\n",
        "# Create objects\n",
        "impedance_controller = ImpedanceController(stiffness, damping)\n",
        "robot_arm = RobotArm(initial_position)\n",
        "force_sensor = ForceSensor(noise=0.1)\n",
        "\n",
        "# Interact with environment using impedance control\n",
        "i=0\n",
        "while i<100:\n",
        "    i=i+1\n",
        "    measurement = robot_arm.get_position()\n",
        "    force = force_sensor.measure()\n",
        "    force_command = impedance_controller.update(measurement, force)\n",
        "    robot_arm.move_to(robot_arm.get_position() + force_command)\n",
        "    time.sleep(0.1)\n"
      ],
      "metadata": {
        "id": "FXw11P3SWvOU"
      },
      "execution_count": null,
      "outputs": []
    },
    {
      "cell_type": "code",
      "source": [
        "import numpy as np\n",
        "from scipy import stats\n",
        "\n",
        "class ForceSensor:\n",
        "    \"\"\"\n",
        "    Attr:\n",
        "    * self.offset - value of the sensor reading when no force is applied\n",
        "    * self.sensitivity - slope of the calibration curve which\n",
        "      represents the change in sensor output per unit change in actual force.\n",
        "    * self.sampling_rate - sampling rate of sensor [Hz]\n",
        "    * sampling.period - sampling over T [sec]\n",
        "    * self.min_force - nominal min force to sense [N]\n",
        "    * self.max_force - nominal max force to sense [N]\n",
        "    * self.min_ADC_reading - analog-to-digital converter (ADC) that produces a digital output in the range of ...\n",
        "    * self.max_ADC_reading - analog-to-digital converter (ADC) that produces a digital output in the range of\n",
        "    * self.actual_force - actual force [N]\n",
        "\n",
        "    methods:\n",
        "    * make_calibration_table - mapping actual force to ADC sensor readings - implemented with random\n",
        "    * sample_from_sensor (raw voltage data + noise) , integrating over sampling period\n",
        "    * get_actual_forces (mapping voltage into forces)\n",
        "\n",
        "    \"\"\"\n",
        "    def __init__(self,min_ADC_reading=0 ,max_ADC_reading=1023, \n",
        "                 sampling_rate=1000,period=0.5,min_force=0,max_force=100,current_force_reading = 0\n",
        "                 ):\n",
        "      \n",
        "\n",
        "        self.offset = None\n",
        "        self.sensitivity = None\n",
        "        self.min_ADC_reading=min_ADC_reading\n",
        "        self.max_ADC_reading=max_ADC_reading\n",
        "        self.sampling_rate=sampling_rate\n",
        "        self.period=period\n",
        "        self.min_force=min_force\n",
        "        self.max_force=max_force\n",
        "        self.current_force_reading=current_force_reading\n",
        "        self.prvs_force_reading = current_force_reading\n",
        "\n",
        "    def make_calibration_table(self):\n",
        "      self.rand_offset = np.random.randint(100, size=1)\n",
        "      self.rand_sens = np.random.randint(100, size=1)\n",
        "      self.force_array = np.sort(np.random.choice(np.arange(self.min_force, self.max_force+1),\n",
        "                                           replace=False, size=(10)))\n",
        "      \n",
        "      self.ADC_array = self.rand_sens * self.force_array + self.rand_offset\n",
        "      \n",
        "      self.sensitivity, self.offset, _, _, _ = stats.linregress(self.force_array,self.ADC_array)\n",
        "\n",
        "\n",
        "\n",
        "\n",
        "    def _get_actual_force(self):\n",
        "      self.actual_force =np.random.choice((-1, 1)) *  (self.sensor_reading-self.offset)/self.sensitivity\n",
        "\n",
        "    def sample_from_sensor(self,e):\n",
        "       # sample during sampling time\n",
        "\n",
        "      #Noise amplitude e\n",
        "       \n",
        "       ## assuming sensor reading withina range:\n",
        "       rand_reading_val = np.random.choice(np.arange(self.min_ADC_reading+e, self.max_ADC_reading+1-e), size=(1))\n",
        "       #N\n",
        "       N = int(self.sampling_rate*self.period)\n",
        "\n",
        "       #sampling\n",
        "       rand_reading_val = np.random.uniform(rand_reading_val-e,rand_reading_val+e,[N])\n",
        "\n",
        "       self.sensor_reading = np.mean(rand_reading_val)\n",
        "    def update(self):\n",
        "      self.actual_force =  self.prvs_force_reading + self.actual_force  \n",
        "      self.prvs_force_reading = self.actual_force\n",
        "\n",
        "    def __str__(self):\n",
        "      print(f\"Sampled: {self.rand_offset=} , {self.rand_sens=}\\n\")\n",
        "      print(f\"Calculated: {self.offset=} , {self.sensitivity=}\\n\")\n",
        "      print(f\"Actual Force [N],Sensor Reading (ADC)\\n\")\n",
        "      for i,j in zip(self.force_array,self.ADC_array):\n",
        "        print(f\"{i},{j}\\n\")\n",
        "      return \"\"\n",
        "       \n",
        "      \n",
        "    def __call__(self,e=2):\n",
        "      self.make_calibration_table()\n",
        "      self.sample_from_sensor(e)\n",
        "      self._get_actual_force()\n",
        "      #update:\n",
        "      self.update()\n",
        "      \n",
        "      print(f\"force: {self.actual_force}N\")\n",
        "      return self.actual_force\n",
        "\n",
        "  \n",
        "\n",
        "class PositionSensor:\n",
        "    def __init__(self):\n",
        "        self.position = 0.0\n",
        "\n",
        "    def read(self):\n",
        "        # Read the position sensor and update the position value\n",
        "        self.position = self.read_position_sensor()\n",
        "        # Return the position value\n",
        "        return self.position\n",
        "\n",
        "    def read_position_sensor(self):\n",
        "      signal =  rand_reading_val = np.random.choice(np.arange(10, 100), size=(1))\n",
        "      return signal\n",
        "\n",
        "class ImpedanceController:\n",
        "    def __init__(self, K, B):\n",
        "        self.K = K  # Spring constant\n",
        "        self.B = B  # Damping constant\n",
        "        self.target_force = None\n",
        "        self.target_position = None\n",
        "    \n",
        "    def update(self, position, force, dt):\n",
        "        # Calculate the error in position and force\n",
        "        position_error = self.target_position - position\n",
        "        force_error = self.target_force - force\n",
        "\n",
        "        # Calculate the desired velocity and acceleration\n",
        "        velocity_desired = self.K * position_error + self.B * force_error\n",
        "        acceleration_desired = (velocity_desired - position_error) / dt\n",
        "\n",
        "        # Calculate the control signal\n",
        "        control_signal = self.K * position_error + self.B * velocity_desired + acceleration_desired\n",
        "\n",
        "        # Return the control signal\n",
        "        return control_signal\n",
        "\n",
        "fs = ForceSensor(period=0.1)\n",
        "ps = PositionSensor()\n",
        "#print(fs.__dict__)\n",
        "\n",
        "# Example usage\n",
        "impedance_controller = ImpedanceController(K=0.5 , B=0.3)\n",
        "feedback = 30 #current feedback\n",
        "\n",
        "robot_motor = Motor(initial_position=feedback)\n",
        "setpoint = 10 #desired setpoint\n",
        "\n",
        "\n",
        "# Define desired target position and force\n",
        "target_position = 90\n",
        "target_force = 12\n",
        "\n",
        "\n",
        "\n",
        "\n",
        "control_signal=1000\n",
        "epsilon = 0.000000001\n",
        "max_iter = 10000\n",
        "i=0\n",
        "\n",
        "while abs(control_signal) > epsilon:\n",
        "  i+=1\n",
        "  #read force:\n",
        "  force = fs()\n",
        "  #read position:\n",
        "  position = ps.read()[0]\n",
        "\n",
        "  # Set the target position and force for the impedance controller\n",
        "  impedance_controller.target_force=target_force\n",
        "  impedance_controller.target_position=target_position\n",
        "  #print(impedance_controller.__dict__)\n",
        "\n",
        "  # Update the control signal based on the current position and force\n",
        "  dt = fs.period\n",
        "  #print(\"position,force,dt\",position,force,dt)\n",
        "  control_signal = impedance_controller.update(position,force,dt)\n",
        "\n",
        "  # Map the control signal to a motor angle\n",
        "  angle = control_signal\n",
        "\n",
        "  #move poisition of motor:\n",
        "  robot_motor.move(angle)\n",
        "\n",
        "  if i>max_iter:\n",
        "    print(f\"exceeded {max_iter=}\")\n",
        "\n",
        "print(f\"Control signal: {control_signal}\\n  current motor position: {robot_motor.get_position()}\\n iter {i}\\n\" )\n"
      ],
      "metadata": {
        "id": "iHBFxvraD8pA"
      },
      "execution_count": null,
      "outputs": []
    },
    {
      "cell_type": "markdown",
      "source": [
        "## IMPEDANCE CONTROLLER PROS AND CONS\n",
        "\n",
        "Pros of Impedance Controllers:\n",
        "\n",
        "1. Better at handling non-linear systems: Impedance controllers can handle non-linear systems more effectively than PID controllers, since they can model the behavior of a system more accurately.\n",
        "2. More flexible: Impedance controllers are more flexible than PID controllers, since they can be used to control a wide range of systems, including robots, vehicles, and other dynamic systems.\n",
        "3. Better at handling disturbances: Impedance controllers can handle disturbances more effectively than PID controllers, since they can adjust their behavior in real time to compensate for changes in the system.\n",
        "\n",
        "Cons of Impedance Controllers:\n",
        "\n",
        "1. More complex: Impedance controllers are more complex than PID controllers, since they require more sophisticated models of the system being controlled.\n",
        "2. More difficult to tune: Impedance controllers can be more difficult to tune than PID controllers, since they require a deeper understanding of the underlying system dynamics.\n",
        "3. More computationally expensive: Impedance controllers can be more computationally expensive than PID controllers, since they require more calculations to determine the appropriate control signals."
      ],
      "metadata": {
        "id": "dvoMNLDQL8TL"
      }
    },
    {
      "cell_type": "markdown",
      "source": [
        "## PID vs Impedance including plotting"
      ],
      "metadata": {
        "id": "GE-ow82_YYbQ"
      }
    },
    {
      "cell_type": "code",
      "source": [
        "import numpy as np\n",
        "import time\n",
        "import matplotlib.pyplot as plt\n",
        "\n",
        "\n",
        "class PIDController:\n",
        "    def __init__(self, kp, ki, kd, setpoint):\n",
        "        self.kp = kp\n",
        "        self.ki = ki\n",
        "        self.kd = kd\n",
        "        self.setpoint = setpoint\n",
        "        self.last_error = 0\n",
        "        self.integral = 0\n",
        "\n",
        "    def update(self, measurement):\n",
        "        error = self.setpoint - measurement\n",
        "        derivative = error - self.last_error\n",
        "        self.integral += error\n",
        "        output = self.kp * error + self.ki * self.integral + self.kd * derivative\n",
        "        self.last_error = error\n",
        "        return output\n",
        "\n",
        "class ImpedanceController:\n",
        "    def __init__(self, stiffness, damping):\n",
        "        self.stiffness = stiffness\n",
        "        self.damping = damping\n",
        "        self.desired_position = 0\n",
        "        self.current_position = 0\n",
        "        self.current_velocity = 0\n",
        "        self.current_force = 0\n",
        "\n",
        "    def update(self, measurement, force):\n",
        "        self.current_position = measurement\n",
        "        self.current_force = force\n",
        "        error = self.desired_position - self.current_position\n",
        "        velocity_error = 0 - self.current_velocity\n",
        "        force_command = self.stiffness * error + self.damping * velocity_error - self.current_force\n",
        "        self.current_velocity += force_command\n",
        "        return force_command\n",
        "\n",
        "class RobotArm:\n",
        "    def __init__(self, initial_position):\n",
        "        self.position = initial_position\n",
        "\n",
        "        self.counter=0\n",
        "        self.count_lst=[]\n",
        "        self.pos_lst=[]\n",
        "        # Create a figure and axis object\n",
        "        fig, self.ax = plt.subplots()\n",
        "        self.line, = self.ax.plot(self.count_lst, self.pos_lst, linestyle=\"-.\", marker=\"*\", color=\"k\")\n",
        "\n",
        "\n",
        "\n",
        "    def move_to(self, position , plotting=False):\n",
        "        print(\"Moving arm to position:\", round(position,2))\n",
        "        self.pos_lst.append(position)\n",
        "        self.counter += 1\n",
        "        self.count_lst.append(self.counter)\n",
        "        self.position = position\n",
        "        if plotting:\n",
        "            # for plotting\n",
        "            self.plotter()\n",
        "\n",
        "\n",
        "    def get_position(self):\n",
        "        return self.position\n",
        "\n",
        "    def plotter(self):\n",
        "        # Update the line object with the new data\n",
        "        # self.line.set_xdata(self.count_lst)\n",
        "        # self.line.set_ydata(self.pos_lst)\n",
        "        self.line, = self.ax.plot(self.count_lst, self.pos_lst, linestyle=\"-.\", marker=\"*\", color=\"k\")\n",
        "        # Redraw the plot\n",
        "        plt.draw()\n",
        "        plt.pause(0.01)\n",
        "\n",
        "class ForceSensor:\n",
        "    def __init__(self, noise=0):\n",
        "        self.noise = noise\n",
        "\n",
        "    def measure(self):\n",
        "        return np.random.normal(0, self.noise)\n",
        "\n",
        "class PositionSensor:\n",
        "    def __init__(self, noise=0):\n",
        "        self.noise = noise\n",
        "\n",
        "    def measure(self, robot_arm):\n",
        "        return robot_arm.get_position() + self.noise\n",
        "\n",
        "\n",
        "# Impedance Controller Parameters\n",
        "stiffness = 1\n",
        "damping = 0.1\n",
        "\n",
        "# pid controller Parameters\n",
        "kp=0.5\n",
        "ki=0.1\n",
        "kd=0.05\n",
        "setpoint=200 # desired position\n",
        "\n",
        "# Robot Arm Parameters\n",
        "initial_position = 0\n",
        "\n",
        "# Create objects\n",
        "impedance_controller = ImpedanceController(stiffness, damping)\n",
        "pid_controller = PIDController(kp,ki,kd,setpoint)\n",
        "\n",
        "robot_arm_IMP = RobotArm(initial_position)\n",
        "robot_arm_PID = RobotArm(initial_position)\n",
        "\n",
        "# sensor objects\n",
        "force_sensor = ForceSensor(noise=0.1)\n",
        "position_sensor = PositionSensor(noise=0.5)\n",
        "\n",
        "# Create plt objects -  -\n",
        "\n",
        "\n",
        "# Interact with environment using impedance control\n",
        "i=0\n",
        "while i<100:\n",
        "    i=i+1\n",
        "    measurement_IMP = robot_arm_IMP.get_position()\n",
        "    # Impedeance Controlling\n",
        "    force = force_sensor.measure()\n",
        "    force_command = impedance_controller.update(measurement_IMP, force)\n",
        "    print(f\"Impedance Control: \\n force_command={round(measurement_IMP,1)}\\n\")\n",
        "    robot_arm_IMP.move_to(robot_arm_IMP.get_position() + force_command, plotting=True)\n",
        "\n",
        "    measurement_PID = position_sensor.measure(robot_arm_PID)\n",
        "    pid_command = pid_controller.update(measurement_PID)\n",
        "    print(f\"PID Control:\\n pid_command={round(pid_command, 1)}\\n\")\n",
        "    robot_arm_PID.move_to(robot_arm_PID.get_position() + pid_command, plotting=True)\n",
        "\n",
        "\n",
        "\n",
        "    time.sleep(0.1)\n"
      ],
      "metadata": {
        "id": "FCkd9ZWqYd4r"
      },
      "execution_count": null,
      "outputs": []
    },
    {
      "cell_type": "markdown",
      "source": [
        "# Optimization principals"
      ],
      "metadata": {
        "id": "M21cSsV5TjTD"
      }
    },
    {
      "cell_type": "code",
      "source": [],
      "metadata": {
        "id": "TFWPiNTBTnjr"
      },
      "execution_count": null,
      "outputs": []
    },
    {
      "cell_type": "markdown",
      "source": [
        "# Reinforement Learining Principals"
      ],
      "metadata": {
        "id": "3tfqjtdUS06V"
      }
    },
    {
      "cell_type": "markdown",
      "source": [
        "## Key definitions\n",
        "\n",
        "**Reinforcement Learning (RL) is a type of machine learning in which an agent learns to interact with an environment to maximize a reward signal.**\n",
        "\n",
        "1. Agent: The agent is the entity that learns to interact with the environment. The agent takes actions in the environment and receives feedback in the form of a reward signal.\n",
        "\n",
        "2. Environment: The environment is the world in which the agent operates. The environment can be anything from a simulated game world to a physical system like a robot.\n",
        "\n",
        "3. Policy: The policy is the strategy that the agent uses to determine its actions in the environment. The policy maps the current state of the environment to an action.\n",
        "\n",
        "4. Reward: The reward signal is the feedback that the agent receives from the environment after taking an action. The reward signal is used to reinforce good behaviors and discourage bad behaviors.\n",
        "\n",
        "5. Value: The value of a state or state-action pair is the expected future reward that the agent can obtain from that state or state-action pair.\n",
        "\n",
        "6. Exploration-Exploitation: In RL, the agent must balance the exploration of new actions and the exploitation of actions that have been found to be successful in the past.\n",
        "\n",
        "7. Reward Function: The reward function defines the goal of the agent in the RL problem. It specifies the amount of reward that the agent receives for each action taken in the environment. The reward function can be a simple scalar value or a more complex function that depends on the state of the environment and the actions taken by the agent.\n",
        "\n",
        "8. Episode: An episode is a single run of the RL problem, starting from an initial state and ending when the goal state is reached or a maximum number of steps is reached. In some problems, the agent must perform multiple episodes to learn an optimal policy.\n",
        "\n",
        "9. Observation: An observation is the information that the agent receives from the environment about its current state. The observation can be a simple set of variables or a more complex representation of the environment.\n",
        "\n",
        "10. Action: An action is the output of the agent's policy function, specifying the next action to take in the environment. The action can be a discrete value, such as a choice between a set of possible actions, or a continuous value, such as a position or velocity.\n",
        "\n",
        "11. Actor: The actor is the part of the RL system that determines the agent's policy function. In some RL algorithms, the actor is updated based on the observed rewards and the value function, with the goal of maximizing the expected future reward."
      ],
      "metadata": {
        "id": "2ooUMXemS9k6"
      }
    },
    {
      "cell_type": "markdown",
      "source": [
        "## Agent\n",
        "\n",
        "An Agent class in Python could have the following attributes and methods:\n",
        "\n",
        "Attributes:\n",
        "\n",
        "1. state: The current state of the agent.\n",
        "2. action_space: The set of possible actions that the agent can take.\n",
        "3. policy: The function that maps states to actions.\n",
        "4. reward: The total reward that the agent has received during the current episode.\n",
        "5. episode: The current episode number.\n",
        "\n",
        "Methods:\n",
        "\n",
        "1. act(state): Given the current state, select an action based on the policy.\n",
        "2. learn(state, action, reward, next_state, done): Update the policy based on the observed reward and the next state.\n",
        "3. reset(): Reset the agent's state and reward for the start of a new episode.\n",
        "4. run_episode(env): Run a single episode in the given environment, updating the policy based on the observed rewards and states.\n",
        "5. train(env, num_episodes): Train the agent by running multiple episodes in the given environment and updating the policy based on the observed rewards and states.\n",
        "6. test(env, num_episodes): Test the agent by running multiple episodes in the given environment without updating the policy."
      ],
      "metadata": {
        "id": "bLWeJw3kWVp_"
      }
    },
    {
      "cell_type": "markdown",
      "source": [
        "## Enviroment\n",
        "\n",
        "Attributes:\n",
        "\n",
        "1. state: The current state of the environment.\n",
        "2. action_space: The set of possible actions that an agent can take in the environment.\n",
        "3. reward: The reward obtained by the agent for the current state and action.\n",
        "4. done: A flag indicating whether the episode has ended.\n",
        "5. episode_length: The maximum number of steps in each episode.\n",
        "6. episode: The current episode number.\n",
        "\n",
        "Methods:\n",
        "\n",
        "1. reset(): Reset the environment to its initial state.\n",
        "2. step(action): Given an action, update the state of the environment and return the next state, reward, done flag, and any additional information.\n",
        "3. render(): Visualize the current state of the environment.\n",
        "4. close(): Clean up any resources used by the environment.\n",
        "5. run_episode(agent): Run a single episode with the given agent, using the step() method to update the state and reward and the render() method to visualize the state.\n",
        "6. train(agent, num_episodes): Train the agent by running multiple episodes with the run_episode() method and updating the agent's policy based on the observed rewards and states.\n",
        "7. test(agent, num_episodes): Test the agent by running multiple episodes with the run_episode() method without updating the agent's policy."
      ],
      "metadata": {
        "id": "peka366KXMw_"
      }
    },
    {
      "cell_type": "markdown",
      "source": [
        "## Policy\n",
        "\n",
        "Attributes:\n",
        "\n",
        "1. state_space: The set of possible states in the environment.\n",
        "1. action_space: The set of possible actions that an agent can take in the environment.\n",
        "1. parameters: The parameters of the policy function.\n",
        "learning_rate: The learning rate used to update the parameters.\n",
        "1. optimizer: The optimization algorithm used to update the parameters.\n",
        "\n",
        "Methods:\n",
        "\n",
        "1. select_action(state): Given a state, select an action to take based on the policy function.\n",
        "1. update(reward): Update the policy function based on the observed reward and the state transition.\n",
        "1. reset(): Reset the policy function to its initial state.\n",
        "1. train(agent, environment, num_episodes): Train the policy function by running multiple episodes in the given environment and updating the policy based on the observed rewards and states.\n",
        "1. test(agent, environment, num_episodes): Test the policy function by running multiple episodes in the given environment without updating the policy."
      ],
      "metadata": {
        "id": "oRgRa8vMXx2N"
      }
    },
    {
      "cell_type": "markdown",
      "source": [
        "## Reward Function\n",
        "\n",
        "Attributes:\n",
        "\n",
        "1. state_space: The set of possible states in the environment.\n",
        "1. action_space: The set of possible actions that an agent can take in the environment.\n",
        "\n",
        "Methods:\n",
        "\n",
        "1. compute_reward(state, action, next_state): Given the current state, action, and next state, compute the reward for the agent.\n",
        "1. reset(): Reset the reward function to its initial state.\n",
        "1. train(agent, environment, num_episodes): Train the reward function by running multiple episodes in the given environment and updating the function based on the observed rewards and states.\n",
        "1. test(agent, environment, num_episodes): Test the reward function by running multiple episodes in the given environment."
      ],
      "metadata": {
        "id": "KYz3-my8YR4O"
      }
    },
    {
      "cell_type": "markdown",
      "source": [
        "# Pytorch principals"
      ],
      "metadata": {
        "id": "rpencqVuToQw"
      }
    },
    {
      "cell_type": "markdown",
      "source": [
        "## Algebra\n",
        "\n",
        "\n",
        "\n",
        "```\n",
        "ret = A.mm(B)       # matrix multiplication\n",
        "ret = A.mv(x)       # matrix-vector multiplication\n",
        "x = x.t()           # matrix transpose\n",
        "```\n",
        "\n"
      ],
      "metadata": {
        "id": "1_fleXpcCEVh"
      }
    },
    {
      "cell_type": "markdown",
      "source": [
        "## Optimizers\n",
        "\n",
        "\n",
        "\n",
        "\n",
        "```\n",
        "opt = optim.x(model.parameters(), ...)      # create optimizer\n",
        "opt.step()                                  # update weights\n",
        "optim.X                                     # where X is SGD, Adadelta, Adagrad, Adam,\n",
        "                                            # AdamW, SparseAdam, Adamax, ASGD,\n",
        "                                            # LBFGS, RMSprop or Rprop\n",
        "```\n",
        "\n",
        "\n"
      ],
      "metadata": {
        "id": "SGMZVzyRCPWi"
      }
    },
    {
      "cell_type": "markdown",
      "source": [
        "## DataLoaders and DataSamplers\n",
        "\n",
        "\n",
        "\n",
        "```\n",
        "DataLoader(dataset, batch_size=1, ...)      # loads data batches agnostic\n",
        "                                            # of structure of individual data points\n",
        "\n",
        "sampler.Sampler(dataset,...)                # abstract class dealing with\n",
        "                                            # ways to sample from dataset\n",
        "\n",
        "sampler.XSampler where ...                  # Sequential, Random, SubsetRandom,\n",
        "                                            # WeightedRandom, Batch, Distributed\n",
        "```\n",
        "\n"
      ],
      "metadata": {
        "id": "ZwlNGqWACeFO"
      }
    },
    {
      "cell_type": "markdown",
      "source": [
        "## Utility functions\n",
        "\n",
        "\n",
        "1. torch.Tensor:\n",
        "\n",
        " Creates a new tensor from an input sequence or array.\n",
        "\n",
        "```\n",
        "# Create a tensor from a list\n",
        "tensor1 = torch.Tensor([1, 2, 3, 4],dtype=torch.float32, device=\"cpu\", requires_grad=True)\n",
        "\n",
        "# Create a tensor from a NumPy array\n",
        "arr = np.array([5, 6, 7, 8])\n",
        "tensor2 = torch.Tensor(arr)\n",
        "\n",
        "# Print the shape, number of dimensions, and data type of the tensor\n",
        "print(\"Shape:\", tensor1.shape)\n",
        "print(\"Number of dimensions:\", tensor1.dim())\n",
        "print(\"Data type:\", tensor1.dtype)\n",
        "print(\"Device:\", tensor1.device)\n",
        "print(\"Requires grad:\", tensor1.requires_grad)\n",
        "\n",
        "# OUTPUT---------\n",
        "# Shape: torch.Size([4])\n",
        "# Number of dimensions: 1\n",
        "# Data type: torch.float32\n",
        "# Device: cpu\n",
        "# Requires grad: True\n",
        "\n",
        "```\n",
        "\n",
        "\n",
        "\n",
        "\n",
        "2. torch.zeros:\n",
        "\n",
        " Creates a new tensor filled with zeros.\n",
        "3. torch.ones:\n",
        "\n",
        " Creates a new tensor filled with ones.\n",
        "4. torch.eye:\n",
        "\n",
        " Creates a new tensor with diagonal elements set to 1 and all other elements set to 0.\n",
        "\n",
        "\n",
        "\n",
        "```\n",
        "# Create a tensor of zeros with a specific shape\n",
        "tensor3 = torch.zeros((2, 3))\n",
        "\n",
        "# Create a tensor of ones with a specific shape\n",
        "tensor4 = torch.ones((3, 2))\n",
        "```\n",
        "\n",
        "\n",
        "\n",
        "5. torch.rand:\n",
        "\n",
        " Creates a new tensor with random values between 0 and 1.\n",
        "6. torch.randn:\n",
        "\n",
        " Creates a new tensor with random values from a normal distribution with mean 0 and standard deviation 1.\n",
        "\n",
        "\n",
        "\n",
        "```\n",
        "# Some examples for Random Tensor generations:\n",
        "\n",
        "## Random tensor between 0 and 1:\n",
        "# Generate a random tensor with size (3, 2) between 0 and 1\n",
        "tensor1 = torch.rand((3, 2))\n",
        "\n",
        "print(tensor1)\n",
        "\"\"\"\n",
        "tensor([[0.4634, 0.0789],\n",
        "        [0.2714, 0.1564],\n",
        "        [0.1064, 0.3716]])\n",
        "\"\"\"\n",
        "\n",
        "## Random tensor from a normal distribution\n",
        "# Generate a random tensor with size (3, 2) from the normal distribution\n",
        "tensor2 = torch.randn((3, 2))\n",
        "\n",
        "print(tensor2)\n",
        "\n",
        "\"\"\"\n",
        "tensor([[ 0.1637, -0.9778],\n",
        "        [-0.5502, -0.2511],\n",
        "        [-0.3186,  0.4214]])\n",
        "\"\"\"\n",
        "\n",
        "\n",
        "## Random integer/float tensor from a range\n",
        "\n",
        "# Generate a random integer tensor with size (3, 2) between 0 and 9\n",
        "tensor3 = torch.randint(0, 10, (3, 2))\n",
        "\n",
        "print(tensor3)\n",
        "\"\"\"\n",
        "tensor([[2, 4],\n",
        "        [4, 9],\n",
        "        [1, 1]])\n",
        "\"\"\"\n",
        "\n",
        "# Generate a random float tensor with size (3, 2) between -1 and 1\n",
        "tensor4 = torch.FloatTensor(3, 2).uniform_(-1, 1)\n",
        "\n",
        "print(tensor4)\n",
        "\"\"\"\n",
        "tensor([[-0.1804,  0.1914],\n",
        "        [ 0.0829, -0.8624],\n",
        "        [-0.2761,  0.5641]])\n",
        "\"\"\"\n",
        "```\n",
        "\n",
        "\n",
        "\n",
        "8. torch.cat:\n",
        "\n",
        " Concatenates tensors along a given dimension.\n",
        "9. torch.stack:\n",
        "\n",
        "\n",
        " Stacks tensors along a new dimension.\n",
        "\n",
        "\n",
        "\n",
        "```\n",
        "# This is formatted as code\n",
        "\n",
        "# Concatenate the tensors along the first dimension\n",
        "result = torch.cat((tensor1, tensor2), dim=0)\n",
        "\n",
        "# Stack the tensors along a new dimension\n",
        "result = torch.stack((tensor1, tensor2), dim=0)\n",
        "\n",
        "\n",
        "```\n",
        "\n",
        "\n",
        "\n",
        "10. torch.transpose:\n",
        "\n",
        " Transposes a tensor by swapping its dimensions.\n",
        "11. torch.view:\n",
        "\n",
        " Reshapes a tensor into a new shape.\n",
        "\n",
        "\n",
        "\n",
        "```\n",
        "## Reshape:\n",
        "\n",
        "# Create a tensor with 6 elements\n",
        "tensor1 = torch.tensor([1, 2, 3, 4, 5, 6])\n",
        "\n",
        "# Reshape the tensor into a 2x3 matrix\n",
        "result = torch.reshape(tensor1, (2, 3))\n",
        "\n",
        "print(result)\n",
        "\"\"\"\n",
        "tensor([[1, 2, 3],\n",
        "        [4, 5, 6]])\n",
        "\"\"\"\n",
        "\n",
        "\n",
        "## torch.view\n",
        "\n",
        "# Create a tensor with 6 elements\n",
        "tensor1 = torch.tensor([1, 2, 3, 4, 5, 6])\n",
        "\n",
        "# Reshape the tensor into a 2x3 matrix using view\n",
        "result = tensor1.view((2, 3))\n",
        "\n",
        "print(result)\n",
        "\n",
        "\"\"\"\n",
        "tensor([[1, 2, 3],\n",
        "        [4, 5, 6]])\n",
        "\"\"\"\n",
        "\n",
        "\"\"\"\n",
        "In this example, we used view to\n",
        " reshape the tensor instead of reshape.\n",
        "The functionality is the same,\n",
        " but view has some additional \n",
        "capabilities. One advantage of view is\n",
        " that it can be used to create a view of\n",
        " a tensor without copying its data.\n",
        "This can be useful for large tensors when\n",
        " you want to avoid unnecessary memory usage.\n",
        "\n",
        "Another advantage of view is that it \n",
        "can automatically infer the size of \n",
        "one dimension if you specify the size \n",
        "of the other dimensions. Here's an example:\n",
        "\"\"\"\n",
        "\n",
        "\n",
        "# Create a tensor with 6 elements\n",
        "tensor1 = torch.tensor([1, 2, 3, 4, 5, 6])\n",
        "\n",
        "# Reshape the tensor into a 2x3 matrix using view with inferred size\n",
        "result = tensor1.view((2, -1))\n",
        "\n",
        "print(result)\n",
        "\n",
        "\"\"\"\n",
        "In this example, we used -1 to specify\n",
        " that the size of the second dimension should\n",
        " be inferred automatically based \n",
        " on the size of the tensor and the\n",
        "size of the first dimension.\n",
        " This can be useful when you want to\n",
        "reshape a tensor in a way that\n",
        " maintains the same number of elements.\n",
        "\n",
        "\n",
        "tensor([[1, 2, 3],\n",
        "        [4, 5, 6]])\n",
        "\"\"\"\n",
        "\n",
        "```\n",
        "\n",
        "\n",
        "12. torch.flatten: Flattens a tensor into a 1D tensor.\n",
        "\n",
        "\n",
        "```\n",
        "tensor2 = torch.flatten(tensor1)\n",
        "\n",
        "```\n",
        "\n",
        "\n",
        "\n",
        "13. torch.mean:\n",
        "\n",
        " Computes the mean of a tensor along a given dimension.\n",
        "\n",
        "```\n",
        "# Compute the mean of the tensor along the first dimension (mean of each row, foe mean of each column dim=1) \n",
        "result = torch.mean(tensor1, dim=0) \n",
        "# tensor([0.4482, 0.6016])\n",
        "\n",
        "```\n",
        "\n",
        "\n",
        "14. torch.sum:\n",
        "\n",
        " Computes the sum of a tensor along a given dimension.\n",
        "15. torch.max:\n",
        "\n",
        " Computes the maximum value of a tensor along a given dimension.\n",
        "16. torch.min:\n",
        "\n",
        " Computes the minimum value of a tensor along a given dimension.\n",
        "17. torch.argmax:\n",
        "\n",
        " Returns the index of the maximum value of a tensor along a given dimension.\n",
        "18. torch.argmin:\n",
        "\n",
        " Returns the index of the minimum value of a tensor along a given dimension.\n",
        "\n",
        "\n",
        "```\n",
        "# Compute the index of the min/max value of the tensor along the first dimension\n",
        "\n",
        "tensor1=torch.Tensor([6,5,8,4,2,1,5,6,0])\n",
        "tensor1=tensor1.view((3,3))\n",
        "min_arg = torch.argmin(tensor1, dim=0) #dim = 0 running on COLUMNS\n",
        "max_arg = torch.argmax(tensor1, dim=1) #dim = 1 running on ROWS\n",
        "\n",
        "print(f\"{tensor1=}\\n {min_arg=} \\n {max_arg=}\")\n",
        "\n",
        "\"\"\"\n",
        "tensor1=tensor([[6., 5., 8.],\n",
        "        [4., 2., 1.],\n",
        "        [5., 6., 0.]])\n",
        " min_arg=tensor([1, 1, 2]) \n",
        " max_arg=tensor([2, 0, 1])\n",
        "\"\"\"\n",
        "\n",
        "```\n",
        "\n",
        "\n",
        "19. torch.cuda.is_available:\n",
        "\n",
        " Returns True if a GPU is available for use.\n",
        "20. torch.device:\n",
        "\n",
        " A context manager for specifying which device to use for a particular operation.\n",
        "21. torch.Tensor.permute:\n",
        "\n",
        " Permute the dimensions of a tensor according to a specified order.\n",
        "22. torch.Tensor.repeat:\n",
        "\n",
        " Repeat the tensor along each dimension a specified number of times.\n",
        "23. torch.Tensor.squeeze:\n",
        "\n",
        " Remove all dimensions of size 1 from the tensor.\n",
        "24. torch.Tensor.unsqueeze: Add a dimension of size 1 to the tensor.\n",
        "\n",
        "\n",
        "```\n",
        "# Unsqueeze / squeeze\n",
        "\n",
        "tensor1=torch.Tensor([6,5,8,4,2,1,5,6,0])\n",
        "tensor1=tensor1.view((3,3))\n",
        "\n",
        "print(f\"{tensor1=}\\n , {tensor1.shape=}\\n , {tensor1.dim()=}\\n\")\n",
        "\n",
        "tensor1 = torch.unsqueeze(tensor1,dim=0) # dim = -1 to add dimension at end\n",
        "print(f\"{tensor1=}\\n , {tensor1.shape=}\\n , {tensor1.dim()=}\\n\")\n",
        "\n",
        "tensor1 = torch.squeeze(tensor1,dim=0) \n",
        "print(f\"{tensor1=}\\n , {tensor1.shape=}\\n , {tensor1.dim()=}\\n\")\n",
        "\n",
        "```\n",
        "\n",
        "\n",
        "\n",
        "\n",
        "25. torch.Tensor.view_as:\n",
        "\n",
        " Reshape the tensor to have the same shape as another tensor.\n",
        "26. torch.Tensor.detach:\n",
        "\n",
        " Returns a new tensor that shares the same storage as the original tensor but with the computation history removed.\n",
        "27. torch.Tensor.clone:\n",
        "\n",
        " Returns a new tensor that is a copy of the original tensor, with the computation history removed.\n",
        "28. torch.Tensor.requires_grad:\n",
        "\n",
        " Returns True if the tensor requires gradient computation.\n",
        "29. torch.Tensor.grad: \n",
        "\n",
        "Returns the gradient of the tensor with respect to a scalar variable.\n",
        "30. torch.autograd.grad:\n",
        "\n",
        "\n",
        " A base class for all datasets in PyTorch.\n",
        "35. torch.utils.data.DataLoader:\n",
        "\n",
        " A data loader that provides an iterable over a dataset, with support for batching, shuffling, and multiprocessing.\n",
        "\n",
        "\n",
        "\n",
        "```\n",
        "# making data loader\n",
        "\n",
        " import torch\n",
        "from torch.utils.data import Dataset, DataLoader\n",
        "\n",
        "# Define a custom dataset class\n",
        "class MyDataset(Dataset):\n",
        "    def __init__(self, data):\n",
        "        self.data = data\n",
        "\n",
        "    def __len__(self):\n",
        "        return len(self.data)\n",
        "\n",
        "    def __getitem__(self, idx):\n",
        "        return self.data[idx]\n",
        "\n",
        "# Create a dataset with 7 random matices\n",
        "data = torch.randn((7,3, 3)) # 7 batches of (3,3) random matrices\n",
        "\n",
        "# Create a dataset object\n",
        "dataset = MyDataset(data)\n",
        "\n",
        "# Create a dataloader with a batch size of 3\n",
        "dataloader = DataLoader(dataset, batch_size=3)\n",
        "\n",
        "# Loop through the dataloader\n",
        "for batch in dataloader:\n",
        "    # Do something with the batch\n",
        "    print(batch.shape)\n",
        "\n",
        "```\n",
        "\n",
        "27. TORCH.DEG2RAD\n",
        "```\n",
        ">>> a = torch.tensor([[180.0, -180.0], [360.0, -360.0], [90.0, -90.0]])\n",
        ">>> torch.deg2rad(a)\n",
        "tensor([[ 3.1416, -3.1416],\n",
        "        [ 6.2832, -6.2832],\n",
        "        [ 1.5708, -1.5708]])\n",
        "```\n",
        "\n",
        "28. arange , range, linspace\n",
        "\n",
        "```\n",
        ">>> torch.arange(1, 2.5, 0.5)\n",
        "tensor([ 1.0000,  1.5000,  2.0000])\n",
        "\n",
        ">>> torch.range(1, 4, 0.5)\n",
        "tensor([ 1.0000,  1.5000,  2.0000,  2.5000,  3.0000,  3.5000,  4.0000])\n",
        "\n",
        ">>> torch.linspace(start=-10, end=10, steps=5)\n",
        "tensor([-10.,  -5.,   0.,   5.,  10.])\n",
        "\n",
        "```\n",
        "\n",
        "\n",
        "29. smart selection with index_select and masked_select\n",
        "\n",
        "```\n",
        ">>> x = torch.randn(3, 4)\n",
        ">>> x\n",
        "tensor([[ 0.3552, -2.3825, -0.8297,  0.3477],\n",
        "        [-1.2035,  1.2252,  0.5002,  0.6248],\n",
        "        [ 0.1307, -2.0608,  0.1244,  2.0139]])\n",
        ">>> mask = x.ge(0.5)\n",
        ">>> mask\n",
        "tensor([[False, False, False, False],\n",
        "        [False, True, True, True],\n",
        "        [False, False, False, True]])\n",
        ">>> torch.masked_select(x, mask)\n",
        "tensor([ 1.2252,  0.5002,  0.6248,  2.0139])\n",
        "\n",
        "\n",
        ">>> x = torch.randn(3, 4)\n",
        ">>> x\n",
        "tensor([[ 0.1427,  0.0231, -0.5414, -1.0009],\n",
        "        [-0.4664,  0.2647, -0.1228, -1.1068],\n",
        "        [-1.1734, -0.6571,  0.7230, -0.6004]])\n",
        ">>> indices = torch.tensor([0, 2])\n",
        ">>> torch.index_select(x, dim=0, indices) #rows 0,2\n",
        "tensor([[ 0.1427,  0.0231, -0.5414, -1.0009],\n",
        "        [-1.1734, -0.6571,  0.7230, -0.6004]])\n",
        ">>> torch.index_select(x, dim=1, indices) #columns 0,2\n",
        "tensor([[ 0.1427, -0.5414],\n",
        "        [-0.4664, -0.1228],\n",
        "        [-1.1734,  0.7230]])\n",
        "\n",
        "\n",
        "\n",
        "```\n",
        "\n",
        "30. torch.where - Return a tensor of elements selected from either x or y, depending on condition.\n",
        "\n",
        "```\n",
        ">>> x = torch.randn(3, 2)\n",
        ">>> y = torch.ones(3, 2)\n",
        ">>> x\n",
        "tensor([[-0.4620,  0.3139],\n",
        "        [ 0.3898, -0.7197],\n",
        "        [ 0.0478, -0.1657]])\n",
        ">>> torch.where(x > 0, x, y)\n",
        "tensor([[ 1.0000,  0.3139],\n",
        "        [ 0.3898,  1.0000],\n",
        "        [ 0.0478,  1.0000]])\n",
        ">>> x = torch.randn(2, 2, dtype=torch.double)\n",
        ">>> x\n",
        "tensor([[ 1.0779,  0.0383],\n",
        "        [-0.8785, -1.1089]], dtype=torch.float64)\n",
        ">>> torch.where(x > 0, x, 0.)\n",
        "tensor([[1.0779, 0.0383],\n",
        "        [0.0000, 0.0000]], dtype=torch.float64)\n",
        "```\n"
      ],
      "metadata": {
        "id": "MRoz-0AJK4Zd"
      }
    },
    {
      "cell_type": "markdown",
      "source": [
        "# OOP Principals"
      ],
      "metadata": {
        "id": "ob1Ho2LvUD-5"
      }
    },
    {
      "cell_type": "markdown",
      "source": [
        "### builtin methods\n",
        "\n",
        "https://www.programiz.com/python-programming/methods/built-in"
      ],
      "metadata": {
        "id": "Q5oo2Fv0sWOd"
      }
    },
    {
      "cell_type": "code",
      "source": [
        "# isinstance(obj , class) -> bool ;  checks if obj is instance of class\n",
        "class A:\n",
        "  def __init__(self):\n",
        "    self.a = 20\n",
        "\n",
        "x = A()\n",
        "y = \"nope\"\n",
        "print(isinstance(x,A))\n",
        "print(isinstance(y,A))"
      ],
      "metadata": {
        "colab": {
          "base_uri": "https://localhost:8080/"
        },
        "id": "UQZxAVOKsSYC",
        "outputId": "0e9bfa25-f9e6-4967-c437-9d261f238c47"
      },
      "execution_count": null,
      "outputs": [
        {
          "output_type": "stream",
          "name": "stdout",
          "text": [
            "True\n",
            "False\n"
          ]
        }
      ]
    },
    {
      "cell_type": "code",
      "source": [
        "mylist = [False,True,False]\n",
        "print(all(mylist))\n",
        "print(any(mylist))"
      ],
      "metadata": {
        "colab": {
          "base_uri": "https://localhost:8080/"
        },
        "id": "W64Df9oDt4I-",
        "outputId": "a4160a92-f4ad-470a-8916-f042d0f3d266"
      },
      "execution_count": null,
      "outputs": [
        {
          "output_type": "stream",
          "name": "stdout",
          "text": [
            "False\n",
            "True\n"
          ]
        }
      ]
    },
    {
      "cell_type": "markdown",
      "source": [
        "## Important dunder methods include:\n",
        "\n",
        "https://mathspp.com/blog/pydonts/dunder-methods#list-of-dunder-methods-and-their-interactions"
      ],
      "metadata": {
        "id": "V67SvFwJdR1M"
      }
    },
    {
      "cell_type": "markdown",
      "source": [
        "### _ _ dict _ _"
      ],
      "metadata": {
        "id": "FyXQvNZQgmoV"
      }
    },
    {
      "cell_type": "code",
      "source": [
        "# __dict__ is used when checking what instance variables(data attributes) an object has.\n",
        "# Unpack instance attributes\n",
        "class Foo:\n",
        "    def __init__(self, **kwargs):\n",
        "      self.__dict__.update(kwargs)\n",
        "\n",
        "    def attr_remove(self,attr_key):\n",
        "      \"\"\"\n",
        "      Removes attributes by key\n",
        "      \"\"\"\n",
        "      if attr_key in self.__dict__.keys():\n",
        "        self.__dict__.pop(attr_key)\n",
        "        print(f\"Removed {attr_key=} sucessfully!\\n {self.__dict__}\")\n",
        "\n",
        "\n",
        "\n",
        "obj = Foo(a=\"hello\",b=None,c=None,d=\"world\",e=\"!\",f=150)\n",
        "print(obj.__dict__)\n",
        "\n",
        "print(f\"after unpacking obj.a: {obj.a}\")\n",
        "\n",
        "# remove attribute:\n",
        "obj.attr_remove(\"a\")\n",
        "\n",
        "# can also use delattr:\n",
        "delattr(obj,\"c\")\n",
        "print(obj.__dict__)\n"
      ],
      "metadata": {
        "colab": {
          "base_uri": "https://localhost:8080/"
        },
        "id": "465WxnqdUGdT",
        "outputId": "d6114bc0-5c86-484e-e408-12d97cd6259c"
      },
      "execution_count": null,
      "outputs": [
        {
          "output_type": "stream",
          "name": "stdout",
          "text": [
            "{'a': 'hello', 'b': None, 'c': None, 'd': 'world', 'e': '!', 'f': 150}\n",
            "after unpacking obj.a: hello\n",
            "Removed attr_key='a' sucessfully!\n",
            " {'b': None, 'c': None, 'd': 'world', 'e': '!', 'f': 150}\n",
            "{'b': None, 'd': 'world', 'e': '!', 'f': 150}\n",
            "['__class__', '__delattr__', '__dict__', '__dir__', '__doc__', '__eq__', '__format__', '__ge__', '__getattribute__', '__gt__', '__hash__', '__init__', '__init_subclass__', '__le__', '__lt__', '__module__', '__ne__', '__new__', '__reduce__', '__reduce_ex__', '__repr__', '__setattr__', '__sizeof__', '__str__', '__subclasshook__', '__weakref__', 'attr_remove', 'b', 'd', 'e', 'f']\n"
          ]
        }
      ]
    },
    {
      "cell_type": "markdown",
      "source": [
        "### _ _ str _ _"
      ],
      "metadata": {
        "id": "sMzMgmommfZf"
      }
    },
    {
      "cell_type": "code",
      "source": [
        "class point:\n",
        "  def __init__(self):\n",
        "    self.x = 12\n",
        "    self.y = 20\n",
        "  def __str__(self):\n",
        "    return f\"coords: ({self.x},{self.y})\"\n",
        "    \n",
        "obj = point()\n",
        "print(obj)"
      ],
      "metadata": {
        "colab": {
          "base_uri": "https://localhost:8080/"
        },
        "id": "p8waJufomjcA",
        "outputId": "fdde04b0-3dfc-4fbf-fa3a-72bdfdef172a"
      },
      "execution_count": null,
      "outputs": [
        {
          "output_type": "stream",
          "name": "stdout",
          "text": [
            "coords: (12,20)\n"
          ]
        }
      ]
    },
    {
      "cell_type": "markdown",
      "source": [
        "### _ _ call _ _"
      ],
      "metadata": {
        "id": "PT4nr0Fs2B0A"
      }
    },
    {
      "cell_type": "code",
      "source": [
        "class Adder:\n",
        "    def __call__(self, x, y):\n",
        "        return x + y\n",
        "\n",
        "# Create an instance of the Adder class\n",
        "adder = Adder()\n",
        "\n",
        "# Call the Adder instance like a function to compute the sum of two numbers\n",
        "result = adder(2, 3)\n",
        "\n",
        "print(result)\n"
      ],
      "metadata": {
        "colab": {
          "base_uri": "https://localhost:8080/"
        },
        "id": "RhsRU5wg2H4N",
        "outputId": "b56aa17c-e17f-4061-ab26-09cce2e58fde"
      },
      "execution_count": 1,
      "outputs": [
        {
          "output_type": "stream",
          "name": "stdout",
          "text": [
            "5\n"
          ]
        }
      ]
    },
    {
      "cell_type": "markdown",
      "source": [
        "### math operatos:  \n",
        "\n",
        " *__ add __\tobj + ...\t🔗\n",
        "__ radd__\t... + obj\t🔗\n",
        "__ iadd__\tobj += ...\t🔗\n",
        "__ sub__ 2 3\tobj - ...\t🔗\n",
        "__ mul__ 2 3\tobj * ...\t🔗\n",
        "__ matmul__ 2 3\tobj @ ...\t🔗\n",
        "__ truediv__ 2 3\tobj / ...\t🔗\n",
        "__ floordiv__ 2 3\tobj // ...\t🔗\n",
        "__ mod__ 2 3\tobj % ...\t🔗\n",
        "__ divmod__ 2\tdivmod(obj, ...)*\n",
        "\n",
        "```\n",
        "__ add __\tobj + ...\t🔗\n",
        "__ radd__\t... + obj\t🔗\n",
        "__ iadd__\tobj += ...\t🔗\n",
        "__ sub__ 2 3\tobj - ...\t🔗\n",
        "__ mul__ 2 3\tobj * ...\t🔗\n",
        "__ matmul__ 2 3\tobj @ ...\t🔗\n",
        "__ truediv__ 2 3\tobj / ...\t🔗\n",
        "__ floordiv__ 2 3\tobj // ...\t🔗\n",
        "__ mod__ 2 3\tobj % ...\t🔗\n",
        "__ divmod__ 2\tdivmod(obj, ...)*\n",
        "```\n",
        "\n"
      ],
      "metadata": {
        "id": "41jxBqqKoanm"
      }
    },
    {
      "cell_type": "code",
      "source": [
        "# for example, __add__:\n",
        "\n",
        "class point:\n",
        "  def __init__(self,x,y):\n",
        "    self.x = x\n",
        "    self.y = y\n",
        "  def __add__(self,other):\n",
        "    return f\"coords: ({self.x + other.x},{self.y + other.y})\"\n",
        "  def __iadd__(self,other):\n",
        "    print(f\"implemented __iadd__\")\n",
        "    \n",
        "obj1 = point(1,2)\n",
        "obj2 = point(3,4)\n",
        "print(obj1+obj2)\n",
        "\n",
        "obj1+=obj2 # iadd"
      ],
      "metadata": {
        "colab": {
          "base_uri": "https://localhost:8080/"
        },
        "id": "DqzaoOO7pCfw",
        "outputId": "3af4b566-cee6-4cbe-9c6d-97c870ce46c1"
      },
      "execution_count": null,
      "outputs": [
        {
          "output_type": "stream",
          "name": "stdout",
          "text": [
            "coords: (4,6)\n",
            "implemented __iadd__\n"
          ]
        }
      ]
    },
    {
      "cell_type": "markdown",
      "source": [
        "### comperative dunder - ( __lt__ , __le__ , __ge__ , __gt__ )"
      ],
      "metadata": {
        "id": "Htig6E37lD_0"
      }
    },
    {
      "cell_type": "code",
      "source": [
        "class A:\n",
        "  def __init__(self):\n",
        "    self.a=12\n",
        "  def __gt__(self, other):\n",
        "    print(f\"Yep!\")\n",
        "\n",
        "class B:\n",
        "  def __init__(self):\n",
        "    self.a=24\n",
        "  def __gt__(self, other):\n",
        "    print(f\"Nope!\")\n",
        "\n",
        "\n",
        "\n",
        "x = A()\n",
        "y= B()\n",
        "x > y\n",
        "y > x"
      ],
      "metadata": {
        "colab": {
          "base_uri": "https://localhost:8080/"
        },
        "id": "nsMUufpBlMFO",
        "outputId": "690e57b5-0a38-493d-e1c6-b5a25c26a202"
      },
      "execution_count": null,
      "outputs": [
        {
          "output_type": "stream",
          "name": "stdout",
          "text": [
            "Yep!\n",
            "Nope!\n"
          ]
        }
      ]
    },
    {
      "cell_type": "markdown",
      "source": [
        "## Encapsulation \n",
        "\n",
        "* key concept in object-oriented programming (OOP) that involves hiding the implementation details of an object and exposing only the necessary functionality through a simple interface\n",
        "\n"
      ],
      "metadata": {
        "id": "fYdVj_Vu7pFM"
      }
    },
    {
      "cell_type": "markdown",
      "source": [
        "### Property Getters and Setters"
      ],
      "metadata": {
        "id": "8Fmw5acE78HC"
      }
    },
    {
      "cell_type": "code",
      "source": [
        "class MyClass:\n",
        "    def __init__(self):\n",
        "        self._my_property = 0\n",
        "\n",
        "    @property\n",
        "    def my_property(self):\n",
        "        return self._my_property\n",
        "\n",
        "    @my_property.setter\n",
        "    def my_property(self, value):\n",
        "        self._my_property = value\n",
        "\n",
        "obj = MyClass()\n",
        "print(obj.my_property)\n",
        "\n",
        "obj.my_property = \"set_me\"\n",
        "print(obj.my_property)"
      ],
      "metadata": {
        "colab": {
          "base_uri": "https://localhost:8080/"
        },
        "id": "CLsvHhOS7_NJ",
        "outputId": "b8d0b869-9474-4ce7-9bc4-7dc7b274d04a"
      },
      "execution_count": 13,
      "outputs": [
        {
          "output_type": "stream",
          "name": "stdout",
          "text": [
            "0\n",
            "set_me\n"
          ]
        }
      ]
    },
    {
      "cell_type": "markdown",
      "source": [
        "## inheritance \n",
        "\n",
        "\n",
        "* is-a relationship\n",
        "\n",
        "In Python, inheritance is an is-a relationship. That is, we use inheritance only if there exists an is-a relationship between two classes. For example,\n",
        "\n",
        "1.Car is a Vehicle\n",
        "\n",
        "2.Apple is a Fruit\n",
        "\n",
        "3.Cat is an Animal\n",
        "\n",
        "Here, Car can inherit from Vehicle, Apple can inherit from Fruit, and so on.\"\"\"\n",
        "\n",
        "\n",
        "* if we need to access the superclass method from the subclass, we use the super() method."
      ],
      "metadata": {
        "id": "Isk1YEeqeCGN"
      }
    },
    {
      "cell_type": "code",
      "source": [
        "#make mother class square:\n",
        "class Square:\n",
        "  def __init__(self,a):\n",
        "    self.a = a\n",
        "    self.b = a\n",
        "  def calc_area (self):\n",
        "    print(f\"area:{self.a*self.b}\")\n",
        "  def call_me(self):\n",
        "    print(\"iv'e been called\")\n",
        "\n",
        "# rectange inherits from square:\n",
        "class Rectangle(Square):\n",
        "  def __init__(self,a,b):\n",
        "    #if we need to access the superclass method from the subclass, we use the super() method.\n",
        "    super().__init__(a) \n",
        "    self.b = b\n",
        "\n",
        "    #accessing a method of the super class:\n",
        "    super().call_me()\n",
        "\n",
        "mysquare = Square(3)\n",
        "mysquare.calc_area()\n",
        "\n",
        "myrect = Rectangle(3,4)\n",
        "myrect.calc_area()"
      ],
      "metadata": {
        "colab": {
          "base_uri": "https://localhost:8080/"
        },
        "id": "d14s5XRseEoD",
        "outputId": "23bc2a9d-228a-4720-92ba-2ab81919bca5"
      },
      "execution_count": 3,
      "outputs": [
        {
          "output_type": "stream",
          "name": "stdout",
          "text": [
            "area:9\n",
            "iv'e been called\n",
            "area:12\n"
          ]
        }
      ]
    },
    {
      "cell_type": "markdown",
      "source": [
        "### Method overriding\n",
        " * what if the same method is present in both the superclass and subclass?\n",
        " - In this case, the method in the subclass overrides the method in the superclass. This concept is known as method overriding in Python."
      ],
      "metadata": {
        "id": "MqcJOy9Q3K4n"
      }
    },
    {
      "cell_type": "code",
      "source": [
        "class Animal:\n",
        "\n",
        "    # attributes and method of the parent class\n",
        "    name = \"\"\n",
        "    \n",
        "    def eat(self):\n",
        "        print(\"I can eat\")\n",
        "\n",
        "# inherit from Animal\n",
        "class Dog(Animal):\n",
        "\n",
        "    # override eat() method\n",
        "    def eat(self):\n",
        "        print(\"I like to eat bones\")\n",
        "\n",
        "# create an object of the subclass\n",
        "labrador = Dog()\n",
        "\n",
        "# call the eat() method on the labrador object\n",
        "labrador.eat()"
      ],
      "metadata": {
        "colab": {
          "base_uri": "https://localhost:8080/"
        },
        "id": "nR27l7gw3kXL",
        "outputId": "1b4a909c-5a59-47da-a7b7-b4f01e47a4b6"
      },
      "execution_count": 2,
      "outputs": [
        {
          "output_type": "stream",
          "name": "stdout",
          "text": [
            "I like to eat bones\n"
          ]
        }
      ]
    },
    {
      "cell_type": "markdown",
      "source": [
        "### Multiple / multilevel inhertiance\n",
        "\n",
        "![image.png](data:image/png;base64,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)\n",
        "\n",
        "![image.png](data:image/png;base64,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)"
      ],
      "metadata": {
        "id": "vG7VdfFs4dCA"
      }
    },
    {
      "cell_type": "code",
      "source": [
        "class Mammal:\n",
        "    def mammal_info(self):\n",
        "        print(\"Mammals can give direct birth.\")\n",
        "\n",
        "class WingedAnimal:\n",
        "    def winged_animal_info(self):\n",
        "        print(\"Winged animals can flap.\")\n",
        "\n",
        "class Bat(Mammal, WingedAnimal): # but inherits from 2 super-classes\n",
        "    pass\n",
        "\n",
        "# create an object of Bat class\n",
        "b1 = Bat()\n",
        "\n",
        "b1.mammal_info()\n",
        "b1.winged_animal_info()"
      ],
      "metadata": {
        "colab": {
          "base_uri": "https://localhost:8080/"
        },
        "id": "GWPTrpQD4nUb",
        "outputId": "41d6a20c-abc7-4915-d8b1-375257290782"
      },
      "execution_count": 4,
      "outputs": [
        {
          "output_type": "stream",
          "name": "stdout",
          "text": [
            "Mammals can give direct birth.\n",
            "Winged animals can flap.\n"
          ]
        }
      ]
    },
    {
      "cell_type": "markdown",
      "source": [
        "### multilevel example\n",
        "\n",
        "Remember:\n",
        "\n",
        "If two superclasses have the same method name and the derived class calls that method, Python uses the MRO to search for the right method to call."
      ],
      "metadata": {
        "id": "XNsS5yqQ5GrY"
      }
    },
    {
      "cell_type": "code",
      "source": [
        "class SuperClass:\n",
        "\n",
        "    def super_method(self):\n",
        "        print(\"Super Class method called\")\n",
        "    def shared_func(self):\n",
        "      print(\"exec. from super_method\")\n",
        "\n",
        "# define class that derive from SuperClass\n",
        "class DerivedClass1(SuperClass):\n",
        "    def derived1_method(self):\n",
        "        print(\"Derived class 1 method called\")\n",
        "    def shared_func(self):\n",
        "      print(\"exec. from DerivedClass1\")\n",
        "\n",
        "# define class that derive from DerivedClass1\n",
        "class DerivedClass2(DerivedClass1):\n",
        "\n",
        "    def derived2_method(self):\n",
        "        print(\"Derived class 2 method called\")\n",
        "\n",
        "# create an object of DerivedClass2\n",
        "d2 = DerivedClass2()\n",
        "\n",
        "d2.super_method()  # Output: \"Super Class method called\"\n",
        "\n",
        "d2.derived1_method()  # Output: \"Derived class 1 method called\"\n",
        "\n",
        "d2.derived2_method()  # Output: \"Derived class 2 method called\"\n",
        "\n",
        "d2.shared_func() # both superclasses has this method, Example of Method Resolution Order (MRO) in Python"
      ],
      "metadata": {
        "colab": {
          "base_uri": "https://localhost:8080/"
        },
        "id": "jwHe1hOD5K5y",
        "outputId": "a7bffab0-972f-444a-cb43-cd5bc709c01e"
      },
      "execution_count": 8,
      "outputs": [
        {
          "output_type": "stream",
          "name": "stdout",
          "text": [
            "Super Class method called\n",
            "Derived class 1 method called\n",
            "Derived class 2 method called\n",
            "exec. from DerivedClass1\n"
          ]
        }
      ]
    },
    {
      "cell_type": "markdown",
      "source": [
        "  ## Decorators\n",
        "\n",
        "  In Python, a decorator is a design pattern that allows you to modify the functionality of a function by wrapping it in another function.\n",
        "\n",
        "The outer function is called the decorator, which takes the original function as an argument and returns a modified version of it."
      ],
      "metadata": {
        "id": "Ncepc-z09s5-"
      }
    },
    {
      "cell_type": "code",
      "source": [
        "# decorator func\n",
        "def make_pretty(func): # receives fun to decorate as arg\n",
        "    def inner(a,b):\n",
        "        print(\"runs the decorator func\")\n",
        "        print(\"I got decorated\") # adding something before the fun\n",
        "        func(a,b) #running the func\n",
        "        print(f\"decorator added {a=} {b=}\")\n",
        "    return inner # returns a new func which is our addition + func()\n",
        "\n",
        "@make_pretty #declare of using make_pretty decorator and send the below code as an arg\n",
        "def ordinary(a,b):\n",
        "    print(\"runs the original func\")\n",
        "    print(\"I am ordinary\")\n",
        "\n",
        "ordinary(\"hello\",\"world\")  "
      ],
      "metadata": {
        "colab": {
          "base_uri": "https://localhost:8080/"
        },
        "id": "12ePgBqC9shk",
        "outputId": "1cd0848f-7797-4266-f0b8-0f3e02830995"
      },
      "execution_count": 17,
      "outputs": [
        {
          "output_type": "stream",
          "name": "stdout",
          "text": [
            "runs the decorator func\n",
            "I got decorated\n",
            "runs the original func\n",
            "I am ordinary\n",
            "decorator added a='hello' b='world'\n"
          ]
        }
      ]
    },
    {
      "cell_type": "markdown",
      "source": [
        "# Python helpers"
      ],
      "metadata": {
        "id": "SbujH-e9UL_9"
      }
    },
    {
      "cell_type": "markdown",
      "source": [
        "## * args **kwargs"
      ],
      "metadata": {
        "id": "OF7YMO111P--"
      }
    },
    {
      "cell_type": "code",
      "source": [
        "# *args **kwargs\n",
        "def fun_example(a,b,*args,**kwargs):\n",
        "  print(f\"regular input: a = {a} b= {b}\\n\")\n",
        "  print(f\"args {args}\\n\")\n",
        "  print(f\"kwargs {kwargs}\\n\")\n",
        "\n",
        "fun_example(1,\"aaa\",\"h\",\"e\",\"l\",\"l\",\"o\",k1 =\"hello\",k2 = \"world\")\n",
        "\n",
        "# also possible to pass dict as a **kwargs with double-star:\n",
        "my_dict= {\"k1\":\"hello\",\"k2\": \"world\" , \"k3\" :\"nice to train\"}\n",
        "fun_example(1,\"aaa\",**my_dict)"
      ],
      "metadata": {
        "colab": {
          "base_uri": "https://localhost:8080/"
        },
        "id": "C5_9b36hURAz",
        "outputId": "f4e1a2f7-bf7e-4518-bb35-8d3ff7569000"
      },
      "execution_count": null,
      "outputs": [
        {
          "output_type": "stream",
          "name": "stdout",
          "text": [
            "regular input: a = 1 b= aaa\n",
            "\n",
            "args ('h', 'e', 'l', 'l', 'o')\n",
            "\n",
            "kwargs {'k1': 'hello', 'k2': 'world'}\n",
            "\n",
            "regular input: a = 1 b= aaa\n",
            "\n",
            "args ()\n",
            "\n",
            "kwargs {'k1': 'hello', 'k2': 'world', 'k3': 'nice to train'}\n",
            "\n"
          ]
        }
      ]
    }
  ]
}